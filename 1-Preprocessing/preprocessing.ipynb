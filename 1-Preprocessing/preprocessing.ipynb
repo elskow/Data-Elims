{
 "cells": [
  {
   "attachments": {},
   "cell_type": "markdown",
   "metadata": {},
   "source": [
    "## Import Libraries and Data"
   ]
  },
  {
   "cell_type": "code",
   "execution_count": 4,
   "metadata": {
    "ExecuteTime": {
     "start_time": "2023-04-19T20:46:58.433912Z",
     "end_time": "2023-04-19T20:46:59.801750Z"
    }
   },
   "outputs": [],
   "source": [
    "import numpy as np # linear algebra\n",
    "import pandas as pd # data processing, CSV file I/O (e.g. pd.read_csv)\n",
    "pd.set_option('display.max_colwidth', None)\n",
    "pd.set_option('display.max_columns', None)\n",
    "pd.set_option('display.max_rows', None)\n",
    "# Specify dtype option on import or set low_memory=False.\n",
    "pd.options.mode.chained_assignment = None  # default='warn'\n",
    "\n",
    "import math\n",
    "import scipy\n",
    "\n",
    "# Datviz purposes\n",
    "import matplotlib.pyplot as plt\n",
    "plt.style.use('bmh')\n",
    "import seaborn as sns\n",
    "sns.set_style('darkgrid')\n",
    "import plotly.express as px"
   ]
  },
  {
   "cell_type": "code",
   "execution_count": 5,
   "metadata": {
    "ExecuteTime": {
     "start_time": "2023-04-19T20:46:58.465147Z",
     "end_time": "2023-04-19T20:47:25.431540Z"
    }
   },
   "outputs": [],
   "source": [
    "try :\n",
    "    train_data = pd.read_csv(\"/kaggle/input/penyisihan-joints-data-competition-2023/train.csv\", low_memory=False)\n",
    "    test_data = pd.read_csv(\"/kaggle/input/penyisihan-joints-data-competition-2023/test.csv\", low_memory=False) # For Kaggle\n",
    "\n",
    "except :\n",
    "    train_data = pd.read_csv(\"../datasets/train.csv\", low_memory=False)\n",
    "    test_data = pd.read_csv(\"../datasets/test.csv\", low_memory=False) # For local development"
   ]
  },
  {
   "cell_type": "code",
   "execution_count": 6,
   "metadata": {
    "ExecuteTime": {
     "start_time": "2023-04-19T20:47:25.447180Z",
     "end_time": "2023-04-19T20:47:35.587504Z"
    }
   },
   "outputs": [
    {
     "name": "stdout",
     "output_type": "stream",
     "text": [
      "Unnamed: 0                             0\n",
      "floors_before_eq (total)          332806\n",
      "old_building                      239204\n",
      "plinth_area (ft^2)                421208\n",
      "height_before_eq (ft)             332806\n",
      "land_surface_condition            301606\n",
      "type_of_foundation                239204\n",
      "type_of_roof                      421208\n",
      "type_of_ground_floor              332806\n",
      "type_of_other_floor               301606\n",
      "position                          312006\n",
      "building_plan_configuration       301606\n",
      "technical_solution_proposed       676014\n",
      "legal_ownership_status            124802\n",
      "has_secondary_use                 197604\n",
      "type_of_reinforcement_concrete    291206\n",
      "residential_type                  270404\n",
      "no_family_residing                145602\n",
      "public_place_type                      0\n",
      "industrial_use_type               114402\n",
      "govermental_use_type              249604\n",
      "flexible_superstructure            62400\n",
      "wall_binding                       62400\n",
      "wall_material                     228804\n",
      "damage_grade                           0\n",
      "dtype: int64\n",
      "\n",
      " (722815, 25)\n"
     ]
    }
   ],
   "source": [
    "print(train_data.isnull().sum())\n",
    "print(\"\\n\",train_data.shape)"
   ]
  },
  {
   "cell_type": "code",
   "execution_count": 7,
   "metadata": {
    "ExecuteTime": {
     "start_time": "2023-04-19T20:47:35.587504Z",
     "end_time": "2023-04-19T20:47:38.229145Z"
    }
   },
   "outputs": [
    {
     "name": "stdout",
     "output_type": "stream",
     "text": [
      "id                                0\n",
      "floors_before_eq (total)          0\n",
      "old_building                      0\n",
      "plinth_area (ft^2)                0\n",
      "height_before_eq (ft)             0\n",
      "land_surface_condition            0\n",
      "type_of_foundation                0\n",
      "type_of_roof                      0\n",
      "type_of_ground_floor              0\n",
      "type_of_other_floor               0\n",
      "position                          0\n",
      "building_plan_configuration       0\n",
      "technical_solution_proposed       0\n",
      "legal_ownership_status            0\n",
      "has_secondary_use                 0\n",
      "type_of_reinforcement_concrete    0\n",
      "residential_type                  0\n",
      "no_family_residing                0\n",
      "public_place_type                 0\n",
      "industrial_use_type               0\n",
      "govermental_use_type              0\n",
      "flexible_superstructure           0\n",
      "wall_binding                      0\n",
      "wall_material                     0\n",
      "dtype: int64\n",
      "\n",
      " (242082, 24)\n"
     ]
    }
   ],
   "source": [
    "print(test_data.isnull().sum())\n",
    "print(\"\\n\",test_data.shape)"
   ]
  },
  {
   "attachments": {},
   "cell_type": "markdown",
   "metadata": {},
   "source": [
    "## Data Preprocessing"
   ]
  },
  {
   "cell_type": "code",
   "execution_count": 8,
   "metadata": {
    "ExecuteTime": {
     "start_time": "2023-04-19T20:47:38.126352Z",
     "end_time": "2023-04-19T20:47:39.307801Z"
    }
   },
   "outputs": [],
   "source": [
    "train_data.drop(['Unnamed: 0'], axis=1, inplace=True)"
   ]
  },
  {
   "cell_type": "code",
   "execution_count": 9,
   "metadata": {
    "ExecuteTime": {
     "start_time": "2023-04-19T20:47:39.307801Z",
     "end_time": "2023-04-19T20:47:39.474860Z"
    }
   },
   "outputs": [
    {
     "data": {
      "text/plain": "                                                       0\nfloors_before_eq (total)                       floor two\nold_building                                         1.0\nplinth_area (ft^2)                              256 ft^2\nheight_before_eq (ft)                               22.0\nland_surface_condition                              Flat\ntype_of_foundation                      Bamboo or Timber\ntype_of_roof                    Bamboo/Timber Light roof\ntype_of_ground_floor                                Clay\ntype_of_other_floor                    TImber/Bamboo-Mud\nposition                                    Not attached\nbuilding_plan_configuration                  Rectangular\ntechnical_solution_proposed                          NaN\nlegal_ownership_status                       Private Use\nhas_secondary_use                                    0.0\ntype_of_reinforcement_concrete                       0.0\nresidential_type                         Non-residential\nno_family_residing                                   1.0\npublic_place_type                             Non-public\nindustrial_use_type                       Non-industrial\ngovermental_use_type                     Non-govermental\nflexible_superstructure                      unavailable\nwall_binding                                         0.0\nwall_material                                        0.0\ndamage_grade                                         1.0",
      "text/html": "<div>\n<style scoped>\n    .dataframe tbody tr th:only-of-type {\n        vertical-align: middle;\n    }\n\n    .dataframe tbody tr th {\n        vertical-align: top;\n    }\n\n    .dataframe thead th {\n        text-align: right;\n    }\n</style>\n<table border=\"1\" class=\"dataframe\">\n  <thead>\n    <tr style=\"text-align: right;\">\n      <th></th>\n      <th>0</th>\n    </tr>\n  </thead>\n  <tbody>\n    <tr>\n      <th>floors_before_eq (total)</th>\n      <td>floor two</td>\n    </tr>\n    <tr>\n      <th>old_building</th>\n      <td>1.0</td>\n    </tr>\n    <tr>\n      <th>plinth_area (ft^2)</th>\n      <td>256 ft^2</td>\n    </tr>\n    <tr>\n      <th>height_before_eq (ft)</th>\n      <td>22.0</td>\n    </tr>\n    <tr>\n      <th>land_surface_condition</th>\n      <td>Flat</td>\n    </tr>\n    <tr>\n      <th>type_of_foundation</th>\n      <td>Bamboo or Timber</td>\n    </tr>\n    <tr>\n      <th>type_of_roof</th>\n      <td>Bamboo/Timber Light roof</td>\n    </tr>\n    <tr>\n      <th>type_of_ground_floor</th>\n      <td>Clay</td>\n    </tr>\n    <tr>\n      <th>type_of_other_floor</th>\n      <td>TImber/Bamboo-Mud</td>\n    </tr>\n    <tr>\n      <th>position</th>\n      <td>Not attached</td>\n    </tr>\n    <tr>\n      <th>building_plan_configuration</th>\n      <td>Rectangular</td>\n    </tr>\n    <tr>\n      <th>technical_solution_proposed</th>\n      <td>NaN</td>\n    </tr>\n    <tr>\n      <th>legal_ownership_status</th>\n      <td>Private Use</td>\n    </tr>\n    <tr>\n      <th>has_secondary_use</th>\n      <td>0.0</td>\n    </tr>\n    <tr>\n      <th>type_of_reinforcement_concrete</th>\n      <td>0.0</td>\n    </tr>\n    <tr>\n      <th>residential_type</th>\n      <td>Non-residential</td>\n    </tr>\n    <tr>\n      <th>no_family_residing</th>\n      <td>1.0</td>\n    </tr>\n    <tr>\n      <th>public_place_type</th>\n      <td>Non-public</td>\n    </tr>\n    <tr>\n      <th>industrial_use_type</th>\n      <td>Non-industrial</td>\n    </tr>\n    <tr>\n      <th>govermental_use_type</th>\n      <td>Non-govermental</td>\n    </tr>\n    <tr>\n      <th>flexible_superstructure</th>\n      <td>unavailable</td>\n    </tr>\n    <tr>\n      <th>wall_binding</th>\n      <td>0.0</td>\n    </tr>\n    <tr>\n      <th>wall_material</th>\n      <td>0.0</td>\n    </tr>\n    <tr>\n      <th>damage_grade</th>\n      <td>1.0</td>\n    </tr>\n  </tbody>\n</table>\n</div>"
     },
     "execution_count": 9,
     "metadata": {},
     "output_type": "execute_result"
    }
   ],
   "source": [
    "train_data.head(1).transpose()"
   ]
  },
  {
   "attachments": {},
   "cell_type": "markdown",
   "metadata": {},
   "source": [
    "### lower case and replace spaces"
   ]
  },
  {
   "cell_type": "code",
   "execution_count": 10,
   "metadata": {
    "ExecuteTime": {
     "start_time": "2023-04-19T20:47:39.401559Z",
     "end_time": "2023-04-19T20:47:39.489917Z"
    }
   },
   "outputs": [],
   "source": [
    "# remove the space in column names\n",
    "train_data.columns = train_data.columns.str.replace(' ', '')\n",
    "test_data.columns = test_data.columns.str.replace(' ', '')"
   ]
  },
  {
   "cell_type": "code",
   "execution_count": 11,
   "metadata": {
    "ExecuteTime": {
     "start_time": "2023-04-19T20:47:39.456436Z",
     "end_time": "2023-04-19T20:47:39.647391Z"
    }
   },
   "outputs": [],
   "source": [
    "string_columns = ['floors_before_eq(total)','land_surface_condition','type_of_foundation','type_of_roof','type_of_ground_floor',\n",
    "                  'type_of_other_floor','position','building_plan_configuration' ,'technical_solution_proposed',\n",
    "                  'legal_ownership_status','residential_type','public_place_type','industrial_use_type',\n",
    "                  'govermental_use_type','flexible_superstructure']"
   ]
  },
  {
   "cell_type": "code",
   "execution_count": 12,
   "metadata": {
    "ExecuteTime": {
     "start_time": "2023-04-19T20:47:39.489917Z",
     "end_time": "2023-04-19T20:48:05.991534Z"
    }
   },
   "outputs": [],
   "source": [
    "# Make every values in every column to lowercase\n",
    "def make_lower_case(column):\n",
    "    column = str(column)\n",
    "    return column.lower()\n",
    "\n",
    "for col in string_columns:\n",
    "    train_data[col] = train_data[col].apply(make_lower_case)\n",
    "\n",
    "for col in string_columns:\n",
    "    test_data[col] = test_data[col].apply(make_lower_case)"
   ]
  },
  {
   "attachments": {},
   "cell_type": "markdown",
   "metadata": {},
   "source": [
    "### floors column to be an integer"
   ]
  },
  {
   "cell_type": "code",
   "execution_count": 13,
   "metadata": {
    "ExecuteTime": {
     "start_time": "2023-04-19T20:48:05.944660Z",
     "end_time": "2023-04-19T20:48:24.051437Z"
    }
   },
   "outputs": [],
   "source": [
    "one_floors = ['one', '1']\n",
    "two_floors = ['two', '2', 'second']\n",
    "three_floors = ['three', '3', 'third']\n",
    "four_floors = ['four', '4']\n",
    "five_floors = ['five', '5', 'fifth']\n",
    "six_floors = ['six', '6']\n",
    "seven_floors = ['seven', '7']\n",
    "eight_floors = ['eight', '8']\n",
    "nine_floors = ['nine', '9']\n",
    "\n",
    "def handle_floors_before_eq(total):\n",
    "    if any(word in total for word in one_floors):\n",
    "        return 1\n",
    "    elif any(word in total for word in two_floors):\n",
    "        return 2\n",
    "    elif any(word in total for word in three_floors):\n",
    "        return 3\n",
    "    elif any(word in total for word in four_floors):\n",
    "        return 4\n",
    "    elif any(word in total for word in five_floors):\n",
    "        return 5\n",
    "    elif any(word in total for word in six_floors):\n",
    "        return 6\n",
    "    elif any(word in total for word in seven_floors):\n",
    "        return 7\n",
    "    elif any(word in total for word in eight_floors):\n",
    "        return 8\n",
    "    elif any(word in total for word in nine_floors):\n",
    "        return 9\n",
    "    else:\n",
    "        return total\n",
    "\n",
    "train_data['floors_before_eq(total)'] = train_data['floors_before_eq(total)'].apply(handle_floors_before_eq)\n",
    "test_data['floors_before_eq(total)'] = test_data['floors_before_eq(total)'].apply(handle_floors_before_eq)"
   ]
  },
  {
   "attachments": {},
   "cell_type": "markdown",
   "metadata": {},
   "source": [
    "### 'plinth_area_sq_ft'"
   ]
  },
  {
   "cell_type": "code",
   "execution_count": 14,
   "metadata": {
    "ExecuteTime": {
     "start_time": "2023-04-19T20:48:24.051437Z",
     "end_time": "2023-04-19T20:48:25.580935Z"
    }
   },
   "outputs": [],
   "source": [
    "def handle_area(area):\n",
    "    area = str(area)\n",
    "    area = area.split(' ')[0]\n",
    "    return area\n",
    "\n",
    "train_data['plinth_area(ft^2)'] = train_data['plinth_area(ft^2)'].apply(handle_area)\n",
    "test_data['plinth_area(ft^2)'] = test_data['plinth_area(ft^2)'].apply(handle_area)"
   ]
  },
  {
   "attachments": {},
   "cell_type": "markdown",
   "metadata": {},
   "source": [
    "### 'legal_ownership_status'"
   ]
  },
  {
   "cell_type": "code",
   "execution_count": 15,
   "metadata": {
    "ExecuteTime": {
     "start_time": "2023-04-19T20:48:25.580935Z",
     "end_time": "2023-04-19T20:48:25.627815Z"
    }
   },
   "outputs": [],
   "source": [
    "def make_eda_using_correlation_within_damagegrade(df, cols):\n",
    "    correlate = pd.DataFrame(\n",
    "    index=['1', '2','3','4','5'], \n",
    "    columns=df[cols].unique())\n",
    "\n",
    "    for j  in df[cols].unique():\n",
    "        try : \n",
    "            \n",
    "            correlate.loc[correlate.index == '1', j]= \\\n",
    "                np.round(sum((df[cols]==j)&\\\n",
    "                            (df['damage_grade']==1))/sum(df[cols]==j) * 100, 3)\n",
    "            \n",
    "            correlate.loc[correlate.index == '2', j]= \\\n",
    "                np.round(sum((df[cols]==j)&\\\n",
    "                            (df['damage_grade']==2))/sum(df[cols]==j) * 100, 3)\n",
    "            \n",
    "            correlate.loc[correlate.index == '3', j]= \\\n",
    "                np.round(sum((df[cols]==j)&\\\n",
    "                            (df['damage_grade']==3))/sum(df[cols]==j) * 100, 3)\n",
    "            \n",
    "            correlate.loc[correlate.index == '4', j]= \\\n",
    "                np.round(sum((df[cols]==j)&\\\n",
    "                            (df['damage_grade']==4))/sum(df[cols]==j) * 100, 3)\n",
    "            \n",
    "            correlate.loc[correlate.index == '5', j]= \\\n",
    "                np.round(sum((df[cols]==j)&\\\n",
    "                            (df['damage_grade']==5))/sum(df[cols]==j) * 100, 3)\n",
    "            \n",
    "        except :\n",
    "            pass\n",
    "    return correlate"
   ]
  },
  {
   "cell_type": "code",
   "execution_count": 16,
   "metadata": {
    "ExecuteTime": {
     "start_time": "2023-04-19T20:48:25.659070Z",
     "end_time": "2023-04-19T20:49:20.742510Z"
    }
   },
   "outputs": [
    {
     "data": {
      "text/plain": "  private use private     nan    prvt public space privste  public unknown  \\\n1       9.817   9.911  10.136   9.577       32.164   9.786  29.237  18.866   \n2      11.158  11.304  11.455  11.197       22.234  11.666  22.394  11.339   \n3       17.88  17.857  17.791  18.101       19.216  18.304  20.929  14.272   \n4      24.578  24.323  24.194  23.994       11.426  24.313  13.337  18.084   \n5      36.567  36.605  36.424  37.131        14.96   35.93  14.103  37.439   \n\n  public use institutionals unspecified institutional use   other  \\\n1     30.972          5.037      19.163             3.372  16.316   \n2      22.09          4.835      12.281             5.246  15.175   \n3     20.061          13.23      16.734            13.911  15.088   \n4     12.366         29.684      16.329            28.618  15.439   \n5      14.51         47.213      35.493            48.852  37.982   \n\n  institutional  \n1         4.139  \n2         5.701  \n3        13.354  \n4          28.7  \n5        48.106  ",
      "text/html": "<div>\n<style scoped>\n    .dataframe tbody tr th:only-of-type {\n        vertical-align: middle;\n    }\n\n    .dataframe tbody tr th {\n        vertical-align: top;\n    }\n\n    .dataframe thead th {\n        text-align: right;\n    }\n</style>\n<table border=\"1\" class=\"dataframe\">\n  <thead>\n    <tr style=\"text-align: right;\">\n      <th></th>\n      <th>private use</th>\n      <th>private</th>\n      <th>nan</th>\n      <th>prvt</th>\n      <th>public space</th>\n      <th>privste</th>\n      <th>public</th>\n      <th>unknown</th>\n      <th>public use</th>\n      <th>institutionals</th>\n      <th>unspecified</th>\n      <th>institutional use</th>\n      <th>other</th>\n      <th>institutional</th>\n    </tr>\n  </thead>\n  <tbody>\n    <tr>\n      <th>1</th>\n      <td>9.817</td>\n      <td>9.911</td>\n      <td>10.136</td>\n      <td>9.577</td>\n      <td>32.164</td>\n      <td>9.786</td>\n      <td>29.237</td>\n      <td>18.866</td>\n      <td>30.972</td>\n      <td>5.037</td>\n      <td>19.163</td>\n      <td>3.372</td>\n      <td>16.316</td>\n      <td>4.139</td>\n    </tr>\n    <tr>\n      <th>2</th>\n      <td>11.158</td>\n      <td>11.304</td>\n      <td>11.455</td>\n      <td>11.197</td>\n      <td>22.234</td>\n      <td>11.666</td>\n      <td>22.394</td>\n      <td>11.339</td>\n      <td>22.09</td>\n      <td>4.835</td>\n      <td>12.281</td>\n      <td>5.246</td>\n      <td>15.175</td>\n      <td>5.701</td>\n    </tr>\n    <tr>\n      <th>3</th>\n      <td>17.88</td>\n      <td>17.857</td>\n      <td>17.791</td>\n      <td>18.101</td>\n      <td>19.216</td>\n      <td>18.304</td>\n      <td>20.929</td>\n      <td>14.272</td>\n      <td>20.061</td>\n      <td>13.23</td>\n      <td>16.734</td>\n      <td>13.911</td>\n      <td>15.088</td>\n      <td>13.354</td>\n    </tr>\n    <tr>\n      <th>4</th>\n      <td>24.578</td>\n      <td>24.323</td>\n      <td>24.194</td>\n      <td>23.994</td>\n      <td>11.426</td>\n      <td>24.313</td>\n      <td>13.337</td>\n      <td>18.084</td>\n      <td>12.366</td>\n      <td>29.684</td>\n      <td>16.329</td>\n      <td>28.618</td>\n      <td>15.439</td>\n      <td>28.7</td>\n    </tr>\n    <tr>\n      <th>5</th>\n      <td>36.567</td>\n      <td>36.605</td>\n      <td>36.424</td>\n      <td>37.131</td>\n      <td>14.96</td>\n      <td>35.93</td>\n      <td>14.103</td>\n      <td>37.439</td>\n      <td>14.51</td>\n      <td>47.213</td>\n      <td>35.493</td>\n      <td>48.852</td>\n      <td>37.982</td>\n      <td>48.106</td>\n    </tr>\n  </tbody>\n</table>\n</div>"
     },
     "execution_count": 16,
     "metadata": {},
     "output_type": "execute_result"
    }
   ],
   "source": [
    "make_eda_using_correlation_within_damagegrade(train_data, 'legal_ownership_status')"
   ]
  },
  {
   "cell_type": "code",
   "execution_count": 17,
   "metadata": {
    "ExecuteTime": {
     "start_time": "2023-04-19T20:49:20.755678Z",
     "end_time": "2023-04-19T20:49:24.880798Z"
    }
   },
   "outputs": [],
   "source": [
    "private_values = ['private use','private','prvt','privste']\n",
    "public_values = ['public space','public','public use']\n",
    "institutional_values = ['institutionals','institutional use','institutional']\n",
    "others_values = ['other','unknown','unspecified']\n",
    "\n",
    "def handle_legal_ownership_status(status):\n",
    "    if status in private_values:\n",
    "        return 'private'\n",
    "    elif status in public_values:\n",
    "        return 'public'\n",
    "    elif status in institutional_values:\n",
    "        return 'institutional'\n",
    "    elif status in others_values:\n",
    "        return 'other'\n",
    "    else:\n",
    "        return status\n",
    "\n",
    "train_data['legal_ownership_status'] = train_data['legal_ownership_status'].apply(handle_legal_ownership_status)\n",
    "test_data['legal_ownership_status'] = test_data['legal_ownership_status'].apply(handle_legal_ownership_status)"
   ]
  },
  {
   "attachments": {},
   "cell_type": "markdown",
   "metadata": {},
   "source": [
    "### 'type_of_foundation'"
   ]
  },
  {
   "cell_type": "code",
   "execution_count": 18,
   "metadata": {
    "ExecuteTime": {
     "start_time": "2023-04-19T20:49:24.894996Z",
     "end_time": "2023-04-19T20:50:00.128956Z"
    }
   },
   "outputs": [
    {
     "data": {
      "text/plain": "  bamboo or timber clay sand mixed mortar-stone/brick mud mortar-stone/brick  \\\n1           30.518                              4.734                   4.78   \n2           23.708                              8.863                  9.008   \n3           22.412                             17.913                 17.855   \n4           14.224                             26.669                 26.767   \n5            9.138                              41.82                 41.589   \n\n      nan clay mortar-stone/brick reinforced concrete  \\\n1  10.285                   4.642              58.656   \n2   11.53                   8.951              27.207   \n3  17.697                  18.033              10.173   \n4  24.187                  26.871               2.199   \n5  36.301                  41.503               1.765   \n\n  cement-stone or cement-brick bamboo/timber      rc  others  \\\n1                       29.515        29.598  59.615   29.45   \n2                       22.609        23.014  26.931    9.27   \n3                       18.498        23.202   9.816  10.911   \n4                       14.026        14.952   2.193  15.176   \n5                       15.352         9.234   1.445  35.193   \n\n  cement-stone/brick   other  \n1             30.289  28.657  \n2             22.174   9.151  \n3             18.264  10.295  \n4             13.825  15.051  \n5             15.448  36.845  ",
      "text/html": "<div>\n<style scoped>\n    .dataframe tbody tr th:only-of-type {\n        vertical-align: middle;\n    }\n\n    .dataframe tbody tr th {\n        vertical-align: top;\n    }\n\n    .dataframe thead th {\n        text-align: right;\n    }\n</style>\n<table border=\"1\" class=\"dataframe\">\n  <thead>\n    <tr style=\"text-align: right;\">\n      <th></th>\n      <th>bamboo or timber</th>\n      <th>clay sand mixed mortar-stone/brick</th>\n      <th>mud mortar-stone/brick</th>\n      <th>nan</th>\n      <th>clay mortar-stone/brick</th>\n      <th>reinforced concrete</th>\n      <th>cement-stone or cement-brick</th>\n      <th>bamboo/timber</th>\n      <th>rc</th>\n      <th>others</th>\n      <th>cement-stone/brick</th>\n      <th>other</th>\n    </tr>\n  </thead>\n  <tbody>\n    <tr>\n      <th>1</th>\n      <td>30.518</td>\n      <td>4.734</td>\n      <td>4.78</td>\n      <td>10.285</td>\n      <td>4.642</td>\n      <td>58.656</td>\n      <td>29.515</td>\n      <td>29.598</td>\n      <td>59.615</td>\n      <td>29.45</td>\n      <td>30.289</td>\n      <td>28.657</td>\n    </tr>\n    <tr>\n      <th>2</th>\n      <td>23.708</td>\n      <td>8.863</td>\n      <td>9.008</td>\n      <td>11.53</td>\n      <td>8.951</td>\n      <td>27.207</td>\n      <td>22.609</td>\n      <td>23.014</td>\n      <td>26.931</td>\n      <td>9.27</td>\n      <td>22.174</td>\n      <td>9.151</td>\n    </tr>\n    <tr>\n      <th>3</th>\n      <td>22.412</td>\n      <td>17.913</td>\n      <td>17.855</td>\n      <td>17.697</td>\n      <td>18.033</td>\n      <td>10.173</td>\n      <td>18.498</td>\n      <td>23.202</td>\n      <td>9.816</td>\n      <td>10.911</td>\n      <td>18.264</td>\n      <td>10.295</td>\n    </tr>\n    <tr>\n      <th>4</th>\n      <td>14.224</td>\n      <td>26.669</td>\n      <td>26.767</td>\n      <td>24.187</td>\n      <td>26.871</td>\n      <td>2.199</td>\n      <td>14.026</td>\n      <td>14.952</td>\n      <td>2.193</td>\n      <td>15.176</td>\n      <td>13.825</td>\n      <td>15.051</td>\n    </tr>\n    <tr>\n      <th>5</th>\n      <td>9.138</td>\n      <td>41.82</td>\n      <td>41.589</td>\n      <td>36.301</td>\n      <td>41.503</td>\n      <td>1.765</td>\n      <td>15.352</td>\n      <td>9.234</td>\n      <td>1.445</td>\n      <td>35.193</td>\n      <td>15.448</td>\n      <td>36.845</td>\n    </tr>\n  </tbody>\n</table>\n</div>"
     },
     "execution_count": 18,
     "metadata": {},
     "output_type": "execute_result"
    }
   ],
   "source": [
    "make_eda_using_correlation_within_damagegrade(train_data, 'type_of_foundation')"
   ]
  },
  {
   "cell_type": "code",
   "execution_count": 19,
   "metadata": {
    "ExecuteTime": {
     "start_time": "2023-04-19T20:50:00.137942Z",
     "end_time": "2023-04-19T20:50:03.422426Z"
    }
   },
   "outputs": [],
   "source": [
    "bambo_or_timber = ['bamboo or timber','bamboo/timber']\n",
    "mixed =  ['clay sand mixed mortar-stone/brick', 'mud mortar-stone/brick','clay mortar-stone/brick']\n",
    "other = ['others','other']\n",
    "rc = ['rc', 'reinforced concrete']\n",
    "cement_stone_or_cement_brick = ['cement-stone or cement-brick','cement-stone/brick']\n",
    "\n",
    "def handle_type_of_foundation(foundation):\n",
    "    if foundation in bambo_or_timber:\n",
    "        return 'bamboo_or_timber'\n",
    "    elif foundation in other:\n",
    "        return 'other'\n",
    "    elif foundation in mixed:\n",
    "        return 'mixed'\n",
    "    elif foundation in rc:\n",
    "        return 'rc'\n",
    "    elif foundation in cement_stone_or_cement_brick:\n",
    "        return 'cement_stone_or_cement_brick'\n",
    "    else:\n",
    "        return foundation\n",
    "\n",
    "train_data['type_of_foundation'] = train_data['type_of_foundation'].apply(handle_type_of_foundation)\n",
    "test_data['type_of_foundation'] = test_data['type_of_foundation'].apply(handle_type_of_foundation)"
   ]
  },
  {
   "attachments": {},
   "cell_type": "markdown",
   "metadata": {},
   "source": [
    "### 'type_of_roof'"
   ]
  },
  {
   "cell_type": "code",
   "execution_count": 20,
   "metadata": {
    "ExecuteTime": {
     "start_time": "2023-04-19T20:50:03.374791Z",
     "end_time": "2023-04-19T20:50:55.810034Z"
    }
   },
   "outputs": [
    {
     "data": {
      "text/plain": "  bamboo/timber light roof wood light roof or bamboo heavy roof     nan  \\\n1                    8.167                                6.383   10.27   \n2                   10.355                               10.416  11.564   \n3                   17.875                               19.377  17.835   \n4                   25.924                               24.257  24.139   \n5                   37.678                               39.568  36.192   \n\n  wood light roof or bamboo light roof bamboo or timber light roof  \\\n1                                8.303                       7.985   \n2                               10.384                      10.994   \n3                               17.595                      17.683   \n4                               25.893                      25.663   \n5                               37.824                      37.674   \n\n  bamboo/timber-light roof reinforced brick slab/rcc/rbc  \\\n1                    8.144                        55.065   \n2                   10.022                        28.363   \n3                     18.3                         10.94   \n4                   25.758                         3.606   \n5                   37.776                         2.026   \n\n  bamboo/timber heavy roof reinforced cement concrete/rb/rbc  \\\n1                    6.186                            54.697   \n2                   10.064                            27.494   \n3                    20.01                            11.866   \n4                   24.149                             3.558   \n5                   39.591                             2.385   \n\n  bamboo or timber heavy roof bamboo/timber-heavy roof rcc/rb/rbc  \\\n1                        6.62                    6.201     55.446   \n2                       9.175                   10.888     27.048   \n3                      19.338                   19.124     12.215   \n4                      24.448                   23.598      3.012   \n5                      40.418                   40.189       2.28   \n\n  reinforced brick concrete/rcc/rbc  \n1                            52.965  \n2                            29.167  \n3                            11.699  \n4                             3.686  \n5                             2.484  ",
      "text/html": "<div>\n<style scoped>\n    .dataframe tbody tr th:only-of-type {\n        vertical-align: middle;\n    }\n\n    .dataframe tbody tr th {\n        vertical-align: top;\n    }\n\n    .dataframe thead th {\n        text-align: right;\n    }\n</style>\n<table border=\"1\" class=\"dataframe\">\n  <thead>\n    <tr style=\"text-align: right;\">\n      <th></th>\n      <th>bamboo/timber light roof</th>\n      <th>wood light roof or bamboo heavy roof</th>\n      <th>nan</th>\n      <th>wood light roof or bamboo light roof</th>\n      <th>bamboo or timber light roof</th>\n      <th>bamboo/timber-light roof</th>\n      <th>reinforced brick slab/rcc/rbc</th>\n      <th>bamboo/timber heavy roof</th>\n      <th>reinforced cement concrete/rb/rbc</th>\n      <th>bamboo or timber heavy roof</th>\n      <th>bamboo/timber-heavy roof</th>\n      <th>rcc/rb/rbc</th>\n      <th>reinforced brick concrete/rcc/rbc</th>\n    </tr>\n  </thead>\n  <tbody>\n    <tr>\n      <th>1</th>\n      <td>8.167</td>\n      <td>6.383</td>\n      <td>10.27</td>\n      <td>8.303</td>\n      <td>7.985</td>\n      <td>8.144</td>\n      <td>55.065</td>\n      <td>6.186</td>\n      <td>54.697</td>\n      <td>6.62</td>\n      <td>6.201</td>\n      <td>55.446</td>\n      <td>52.965</td>\n    </tr>\n    <tr>\n      <th>2</th>\n      <td>10.355</td>\n      <td>10.416</td>\n      <td>11.564</td>\n      <td>10.384</td>\n      <td>10.994</td>\n      <td>10.022</td>\n      <td>28.363</td>\n      <td>10.064</td>\n      <td>27.494</td>\n      <td>9.175</td>\n      <td>10.888</td>\n      <td>27.048</td>\n      <td>29.167</td>\n    </tr>\n    <tr>\n      <th>3</th>\n      <td>17.875</td>\n      <td>19.377</td>\n      <td>17.835</td>\n      <td>17.595</td>\n      <td>17.683</td>\n      <td>18.3</td>\n      <td>10.94</td>\n      <td>20.01</td>\n      <td>11.866</td>\n      <td>19.338</td>\n      <td>19.124</td>\n      <td>12.215</td>\n      <td>11.699</td>\n    </tr>\n    <tr>\n      <th>4</th>\n      <td>25.924</td>\n      <td>24.257</td>\n      <td>24.139</td>\n      <td>25.893</td>\n      <td>25.663</td>\n      <td>25.758</td>\n      <td>3.606</td>\n      <td>24.149</td>\n      <td>3.558</td>\n      <td>24.448</td>\n      <td>23.598</td>\n      <td>3.012</td>\n      <td>3.686</td>\n    </tr>\n    <tr>\n      <th>5</th>\n      <td>37.678</td>\n      <td>39.568</td>\n      <td>36.192</td>\n      <td>37.824</td>\n      <td>37.674</td>\n      <td>37.776</td>\n      <td>2.026</td>\n      <td>39.591</td>\n      <td>2.385</td>\n      <td>40.418</td>\n      <td>40.189</td>\n      <td>2.28</td>\n      <td>2.484</td>\n    </tr>\n  </tbody>\n</table>\n</div>"
     },
     "execution_count": 20,
     "metadata": {},
     "output_type": "execute_result"
    }
   ],
   "source": [
    "make_eda_using_correlation_within_damagegrade(train_data, 'type_of_roof')"
   ]
  },
  {
   "cell_type": "code",
   "execution_count": 21,
   "metadata": {
    "ExecuteTime": {
     "start_time": "2023-04-19T20:50:55.816035Z",
     "end_time": "2023-04-19T20:50:56.969368Z"
    }
   },
   "outputs": [],
   "source": [
    "bambo_or_timber_light = ['bamboo/timber light roof','bamboo or timber light roof',\n",
    "                         'bamboo/timber-light roof','wood light roof or bamboo light roof']\n",
    "bambo_or_timber_heavy = ['bamboo/timber heavy roof','bamboo or timber heavy roof','bamboo/timber-heavy roof',\n",
    "                         'wood light roof or bamboo heavy roof']\n",
    "rcc_rb_rbc = ['reinforced cement concrete/rb/rbc','rcc/rb/rbc', 'rcc_rbc', \n",
    "              'reinforced brick slab/rcc/rbc', 'reinforced brick concrete/rcc/rbc']\n",
    "\n",
    "def handle_type_of_roof(roof):\n",
    "    if roof in bambo_or_timber_light:\n",
    "        return 'bamboo_or_timber_light'\n",
    "    elif roof in bambo_or_timber_heavy:\n",
    "        return 'bamboo_or_timber_heavy'\n",
    "    elif roof in rcc_rb_rbc:\n",
    "        return 'rcc_rb_rbc'\n",
    "    else:\n",
    "        return roof\n",
    "    \n",
    "train_data['type_of_roof'] = train_data['type_of_roof'].apply(handle_type_of_roof)\n",
    "test_data['type_of_roof'] = test_data['type_of_roof'].apply(handle_type_of_roof)"
   ]
  },
  {
   "attachments": {},
   "cell_type": "markdown",
   "metadata": {},
   "source": [
    "### 'type_of_ground_floor'"
   ]
  },
  {
   "cell_type": "code",
   "execution_count": 22,
   "metadata": {
    "ExecuteTime": {
     "start_time": "2023-04-19T20:50:56.973525Z",
     "end_time": "2023-04-19T20:51:35.531432Z"
    }
   },
   "outputs": [
    {
     "data": {
      "text/plain": "     clay     nan     mud brick or stone reinforced concrete      rc  \\\n1   6.191  10.249    6.24          9.091              46.509  45.843   \n2   9.551  11.581   9.579         10.304              27.141  27.912   \n3  18.554  17.804   18.23         16.345               14.89  14.634   \n4  26.141  24.128  26.166         24.629               6.644   6.803   \n5  39.563  36.238  39.786         39.631               4.815   4.808   \n\n  soil, water, loam mixed brick/stone   other  lumber  timber    wood  \n1                   6.396       8.514  26.562  18.933  19.209  19.101  \n2                  10.441        9.85  17.708    18.0  14.689   15.73  \n3                  17.861      16.828  23.785  15.467  16.949   12.36  \n4                  26.207      25.008  17.882  20.667  18.079  19.101  \n5                  39.095        39.8  14.062  26.933  31.073  33.708  ",
      "text/html": "<div>\n<style scoped>\n    .dataframe tbody tr th:only-of-type {\n        vertical-align: middle;\n    }\n\n    .dataframe tbody tr th {\n        vertical-align: top;\n    }\n\n    .dataframe thead th {\n        text-align: right;\n    }\n</style>\n<table border=\"1\" class=\"dataframe\">\n  <thead>\n    <tr style=\"text-align: right;\">\n      <th></th>\n      <th>clay</th>\n      <th>nan</th>\n      <th>mud</th>\n      <th>brick or stone</th>\n      <th>reinforced concrete</th>\n      <th>rc</th>\n      <th>soil, water, loam mixed</th>\n      <th>brick/stone</th>\n      <th>other</th>\n      <th>lumber</th>\n      <th>timber</th>\n      <th>wood</th>\n    </tr>\n  </thead>\n  <tbody>\n    <tr>\n      <th>1</th>\n      <td>6.191</td>\n      <td>10.249</td>\n      <td>6.24</td>\n      <td>9.091</td>\n      <td>46.509</td>\n      <td>45.843</td>\n      <td>6.396</td>\n      <td>8.514</td>\n      <td>26.562</td>\n      <td>18.933</td>\n      <td>19.209</td>\n      <td>19.101</td>\n    </tr>\n    <tr>\n      <th>2</th>\n      <td>9.551</td>\n      <td>11.581</td>\n      <td>9.579</td>\n      <td>10.304</td>\n      <td>27.141</td>\n      <td>27.912</td>\n      <td>10.441</td>\n      <td>9.85</td>\n      <td>17.708</td>\n      <td>18.0</td>\n      <td>14.689</td>\n      <td>15.73</td>\n    </tr>\n    <tr>\n      <th>3</th>\n      <td>18.554</td>\n      <td>17.804</td>\n      <td>18.23</td>\n      <td>16.345</td>\n      <td>14.89</td>\n      <td>14.634</td>\n      <td>17.861</td>\n      <td>16.828</td>\n      <td>23.785</td>\n      <td>15.467</td>\n      <td>16.949</td>\n      <td>12.36</td>\n    </tr>\n    <tr>\n      <th>4</th>\n      <td>26.141</td>\n      <td>24.128</td>\n      <td>26.166</td>\n      <td>24.629</td>\n      <td>6.644</td>\n      <td>6.803</td>\n      <td>26.207</td>\n      <td>25.008</td>\n      <td>17.882</td>\n      <td>20.667</td>\n      <td>18.079</td>\n      <td>19.101</td>\n    </tr>\n    <tr>\n      <th>5</th>\n      <td>39.563</td>\n      <td>36.238</td>\n      <td>39.786</td>\n      <td>39.631</td>\n      <td>4.815</td>\n      <td>4.808</td>\n      <td>39.095</td>\n      <td>39.8</td>\n      <td>14.062</td>\n      <td>26.933</td>\n      <td>31.073</td>\n      <td>33.708</td>\n    </tr>\n  </tbody>\n</table>\n</div>"
     },
     "execution_count": 22,
     "metadata": {},
     "output_type": "execute_result"
    }
   ],
   "source": [
    "make_eda_using_correlation_within_damagegrade(train_data, 'type_of_ground_floor')"
   ]
  },
  {
   "cell_type": "code",
   "execution_count": 23,
   "metadata": {
    "ExecuteTime": {
     "start_time": "2023-04-19T20:51:35.505409Z",
     "end_time": "2023-04-19T20:51:38.180912Z"
    }
   },
   "outputs": [],
   "source": [
    "brick_or_stone = ['brick/stone','brick or stone']\n",
    "rc = ['rc','reinforced cement', 'reinforced concrete']\n",
    "wood = ['timber','lumber']\n",
    "clay_mud = ['clay', 'mud', 'soil, water, loam mixed']\n",
    "\n",
    "def handle_type_of_ground_floor(floor):\n",
    "    if floor in brick_or_stone:\n",
    "        return 'brick_or_stone'\n",
    "    elif floor in rc:\n",
    "        return 'rc'\n",
    "    elif floor in wood:\n",
    "        return 'wood'\n",
    "    elif floor in clay_mud:\n",
    "        return 'clay_mud'\n",
    "    else:\n",
    "        return floor\n",
    "    \n",
    "train_data['type_of_ground_floor'] = train_data['type_of_ground_floor'].apply(handle_type_of_ground_floor)\n",
    "test_data['type_of_ground_floor'] = test_data['type_of_ground_floor'].apply(handle_type_of_ground_floor)"
   ]
  },
  {
   "attachments": {},
   "cell_type": "markdown",
   "metadata": {},
   "source": [
    "### 'type_of_other_floor'"
   ]
  },
  {
   "cell_type": "code",
   "execution_count": 24,
   "metadata": {
    "ExecuteTime": {
     "start_time": "2023-04-19T20:51:38.158908Z",
     "end_time": "2023-04-19T20:52:13.835759Z"
    }
   },
   "outputs": [
    {
     "data": {
      "text/plain": "  timber/bamboo-mud wood-mud or bamboo mud timber mud or bamboo-mud     nan  \\\n1             4.108                  4.325                     4.06  10.223   \n2             8.917                  8.957                     8.84  11.566   \n3            19.153                 19.047                   19.006  17.811   \n4            28.729                 28.981                   28.794  24.157   \n5            39.093                  38.69                   39.301  36.243   \n\n  not applicable wood or bamboo mud rcc/rb/rbc wood-plank timber-planck  \\\n1         25.901              4.067     51.432      9.321         9.331   \n2         17.719              9.515     27.507     11.296        11.165   \n3         15.376             19.049     12.959     16.648        17.029   \n4         12.919             29.496      4.588     21.742        21.068   \n5         28.086             37.873      3.514     40.994        41.408   \n\n  lumber-plank reinforced brick concrete/rcc/rbc  \\\n1        9.349                            53.425   \n2       10.642                            27.397   \n3       17.024                            12.877   \n4       22.006                             3.699   \n5       40.979                             2.603   \n\n  reinforced cement concrete/rb/rbc  \n1                            50.502  \n2                            27.648  \n3                            12.709  \n4                             5.351  \n5                              3.79  ",
      "text/html": "<div>\n<style scoped>\n    .dataframe tbody tr th:only-of-type {\n        vertical-align: middle;\n    }\n\n    .dataframe tbody tr th {\n        vertical-align: top;\n    }\n\n    .dataframe thead th {\n        text-align: right;\n    }\n</style>\n<table border=\"1\" class=\"dataframe\">\n  <thead>\n    <tr style=\"text-align: right;\">\n      <th></th>\n      <th>timber/bamboo-mud</th>\n      <th>wood-mud or bamboo mud</th>\n      <th>timber mud or bamboo-mud</th>\n      <th>nan</th>\n      <th>not applicable</th>\n      <th>wood or bamboo mud</th>\n      <th>rcc/rb/rbc</th>\n      <th>wood-plank</th>\n      <th>timber-planck</th>\n      <th>lumber-plank</th>\n      <th>reinforced brick concrete/rcc/rbc</th>\n      <th>reinforced cement concrete/rb/rbc</th>\n    </tr>\n  </thead>\n  <tbody>\n    <tr>\n      <th>1</th>\n      <td>4.108</td>\n      <td>4.325</td>\n      <td>4.06</td>\n      <td>10.223</td>\n      <td>25.901</td>\n      <td>4.067</td>\n      <td>51.432</td>\n      <td>9.321</td>\n      <td>9.331</td>\n      <td>9.349</td>\n      <td>53.425</td>\n      <td>50.502</td>\n    </tr>\n    <tr>\n      <th>2</th>\n      <td>8.917</td>\n      <td>8.957</td>\n      <td>8.84</td>\n      <td>11.566</td>\n      <td>17.719</td>\n      <td>9.515</td>\n      <td>27.507</td>\n      <td>11.296</td>\n      <td>11.165</td>\n      <td>10.642</td>\n      <td>27.397</td>\n      <td>27.648</td>\n    </tr>\n    <tr>\n      <th>3</th>\n      <td>19.153</td>\n      <td>19.047</td>\n      <td>19.006</td>\n      <td>17.811</td>\n      <td>15.376</td>\n      <td>19.049</td>\n      <td>12.959</td>\n      <td>16.648</td>\n      <td>17.029</td>\n      <td>17.024</td>\n      <td>12.877</td>\n      <td>12.709</td>\n    </tr>\n    <tr>\n      <th>4</th>\n      <td>28.729</td>\n      <td>28.981</td>\n      <td>28.794</td>\n      <td>24.157</td>\n      <td>12.919</td>\n      <td>29.496</td>\n      <td>4.588</td>\n      <td>21.742</td>\n      <td>21.068</td>\n      <td>22.006</td>\n      <td>3.699</td>\n      <td>5.351</td>\n    </tr>\n    <tr>\n      <th>5</th>\n      <td>39.093</td>\n      <td>38.69</td>\n      <td>39.301</td>\n      <td>36.243</td>\n      <td>28.086</td>\n      <td>37.873</td>\n      <td>3.514</td>\n      <td>40.994</td>\n      <td>41.408</td>\n      <td>40.979</td>\n      <td>2.603</td>\n      <td>3.79</td>\n    </tr>\n  </tbody>\n</table>\n</div>"
     },
     "execution_count": 24,
     "metadata": {},
     "output_type": "execute_result"
    }
   ],
   "source": [
    "make_eda_using_correlation_within_damagegrade(train_data, 'type_of_other_floor')"
   ]
  },
  {
   "cell_type": "code",
   "execution_count": 25,
   "metadata": {
    "ExecuteTime": {
     "start_time": "2023-04-19T20:52:13.852215Z",
     "end_time": "2023-04-19T20:52:15.155169Z"
    }
   },
   "outputs": [],
   "source": [
    "wood_or_bambo_mud = ['wood-mud or bamboo mud','wood or bamboo mud','timber/bamboo-mud','timber mud or bamboo-mud']\n",
    "rcc_rb_rbc = ['rcc/rb/rbc', 'reinforced cement concrete/rb/rbc', 'reinforced brick concrete/rcc/rbc']\n",
    "wood_plank = ['wood-plank','timber-planck','lumber-plank']\n",
    "\n",
    "def handle_type_of_other_floor(floor):\n",
    "    if floor in wood_or_bambo_mud:\n",
    "        return 'wood_or_bambo_mud'\n",
    "    elif floor in rcc_rb_rbc:\n",
    "        return 'rcc_rb_rbc'\n",
    "    elif floor in wood_plank:\n",
    "        return 'wood_plank'\n",
    "    else:\n",
    "        return floor\n",
    "\n",
    "train_data['type_of_other_floor'] = train_data['type_of_other_floor'].apply(handle_type_of_other_floor)\n",
    "test_data['type_of_other_floor'] = test_data['type_of_other_floor'].apply(handle_type_of_other_floor)"
   ]
  },
  {
   "attachments": {},
   "cell_type": "markdown",
   "metadata": {},
   "source": [
    "### nan -> np.nan"
   ]
  },
  {
   "cell_type": "code",
   "execution_count": 26,
   "metadata": {
    "ExecuteTime": {
     "start_time": "2023-04-19T20:52:15.061382Z",
     "end_time": "2023-04-19T20:52:20.773962Z"
    }
   },
   "outputs": [],
   "source": [
    "# Change 'nan' to np.nan\n",
    "train_data = train_data.replace('nan', np.nan)\n",
    "test_data = test_data.replace('nan', np.nan)"
   ]
  },
  {
   "attachments": {},
   "cell_type": "markdown",
   "metadata": {},
   "source": [
    "### 'plinth_area(ft^2)'"
   ]
  },
  {
   "cell_type": "code",
   "execution_count": 27,
   "metadata": {
    "ExecuteTime": {
     "start_time": "2023-04-19T20:52:20.782195Z",
     "end_time": "2023-04-19T20:52:22.080718Z"
    }
   },
   "outputs": [
    {
     "data": {
      "text/plain": "(6242, 24)"
     },
     "execution_count": 27,
     "metadata": {},
     "output_type": "execute_result"
    }
   ],
   "source": [
    "train_data[train_data['plinth_area(ft^2)'] == 'More'].shape"
   ]
  },
  {
   "cell_type": "code",
   "execution_count": 28,
   "metadata": {
    "ExecuteTime": {
     "start_time": "2023-04-19T20:52:22.097215Z",
     "end_time": "2023-04-19T20:52:23.341650Z"
    }
   },
   "outputs": [],
   "source": [
    "train_data['ismorethanplintharea'] = train_data['plinth_area(ft^2)'].apply(lambda x: 1 if x == 'More' else 0)\n",
    "test_data['ismorethanplintharea'] = test_data['plinth_area(ft^2)'].apply(lambda x: 1 if x == 'More' else 0)"
   ]
  },
  {
   "cell_type": "code",
   "execution_count": 29,
   "metadata": {
    "ExecuteTime": {
     "start_time": "2023-04-19T20:52:23.343657Z",
     "end_time": "2023-04-19T20:52:25.006875Z"
    }
   },
   "outputs": [],
   "source": [
    "# Change 'more' to 0\n",
    "train_data['plinth_area(ft^2)'] = train_data['plinth_area(ft^2)'].apply(lambda x: -1 if x == 'More' else float(x))\n",
    "test_data['plinth_area(ft^2)'] = test_data['plinth_area(ft^2)'].apply(lambda x: -1 if x == 'More' else float(x))"
   ]
  },
  {
   "attachments": {},
   "cell_type": "markdown",
   "metadata": {},
   "source": [
    "### 'no_family_residing'"
   ]
  },
  {
   "cell_type": "code",
   "execution_count": 30,
   "metadata": {
    "ExecuteTime": {
     "start_time": "2023-04-19T20:52:25.021882Z",
     "end_time": "2023-04-19T20:52:26.828829Z"
    }
   },
   "outputs": [],
   "source": [
    "def handle_no_family_residing(no_family):\n",
    "    if no_family == 'None':\n",
    "        return 0\n",
    "    elif no_family == np.nan:\n",
    "        return np.nan\n",
    "    else:\n",
    "        return float(no_family)\n",
    "\n",
    "train_data['no_family_residing'] = train_data['no_family_residing'].apply(handle_no_family_residing)\n",
    "test_data['no_family_residing'] = test_data['no_family_residing'].apply(handle_no_family_residing)"
   ]
  },
  {
   "attachments": {},
   "cell_type": "markdown",
   "metadata": {},
   "source": [
    "### 'public_place_type'"
   ]
  },
  {
   "cell_type": "code",
   "execution_count": 31,
   "metadata": {
    "ExecuteTime": {
     "start_time": "2023-04-19T20:52:26.827831Z",
     "end_time": "2023-04-19T20:53:06.713371Z"
    }
   },
   "outputs": [
    {
     "data": {
      "text/plain": "  non-public religious sites other institutional building drugstore  \\\n1     10.263          50.588                       48.936    23.529   \n2     11.465          16.471                       23.404     25.21   \n3     17.884          17.059                       18.085    15.966   \n4     24.144           9.412                        5.319    10.924   \n5     36.245           6.471                        4.255     24.37   \n\n  health clinics shopping sites hospital high school university middle school  \\\n1         19.643         49.804   40.373      39.362     39.175        39.535   \n2           25.0         23.137   24.845      19.149     34.021        13.953   \n3         23.214          10.98    16.77      15.957      11.34        19.767   \n4         16.071         11.765   11.801       3.191      11.34        15.116   \n5         16.071          4.314    6.211       22.34      4.124        11.628   \n\n  primary school recreational park  museum  \n1           36.0              25.0  57.447  \n2           21.6             43.75  10.638  \n3           18.4             18.75  10.638  \n4           12.0              6.25  14.894  \n5           12.0              6.25   6.383  ",
      "text/html": "<div>\n<style scoped>\n    .dataframe tbody tr th:only-of-type {\n        vertical-align: middle;\n    }\n\n    .dataframe tbody tr th {\n        vertical-align: top;\n    }\n\n    .dataframe thead th {\n        text-align: right;\n    }\n</style>\n<table border=\"1\" class=\"dataframe\">\n  <thead>\n    <tr style=\"text-align: right;\">\n      <th></th>\n      <th>non-public</th>\n      <th>religious sites</th>\n      <th>other institutional building</th>\n      <th>drugstore</th>\n      <th>health clinics</th>\n      <th>shopping sites</th>\n      <th>hospital</th>\n      <th>high school</th>\n      <th>university</th>\n      <th>middle school</th>\n      <th>primary school</th>\n      <th>recreational park</th>\n      <th>museum</th>\n    </tr>\n  </thead>\n  <tbody>\n    <tr>\n      <th>1</th>\n      <td>10.263</td>\n      <td>50.588</td>\n      <td>48.936</td>\n      <td>23.529</td>\n      <td>19.643</td>\n      <td>49.804</td>\n      <td>40.373</td>\n      <td>39.362</td>\n      <td>39.175</td>\n      <td>39.535</td>\n      <td>36.0</td>\n      <td>25.0</td>\n      <td>57.447</td>\n    </tr>\n    <tr>\n      <th>2</th>\n      <td>11.465</td>\n      <td>16.471</td>\n      <td>23.404</td>\n      <td>25.21</td>\n      <td>25.0</td>\n      <td>23.137</td>\n      <td>24.845</td>\n      <td>19.149</td>\n      <td>34.021</td>\n      <td>13.953</td>\n      <td>21.6</td>\n      <td>43.75</td>\n      <td>10.638</td>\n    </tr>\n    <tr>\n      <th>3</th>\n      <td>17.884</td>\n      <td>17.059</td>\n      <td>18.085</td>\n      <td>15.966</td>\n      <td>23.214</td>\n      <td>10.98</td>\n      <td>16.77</td>\n      <td>15.957</td>\n      <td>11.34</td>\n      <td>19.767</td>\n      <td>18.4</td>\n      <td>18.75</td>\n      <td>10.638</td>\n    </tr>\n    <tr>\n      <th>4</th>\n      <td>24.144</td>\n      <td>9.412</td>\n      <td>5.319</td>\n      <td>10.924</td>\n      <td>16.071</td>\n      <td>11.765</td>\n      <td>11.801</td>\n      <td>3.191</td>\n      <td>11.34</td>\n      <td>15.116</td>\n      <td>12.0</td>\n      <td>6.25</td>\n      <td>14.894</td>\n    </tr>\n    <tr>\n      <th>5</th>\n      <td>36.245</td>\n      <td>6.471</td>\n      <td>4.255</td>\n      <td>24.37</td>\n      <td>16.071</td>\n      <td>4.314</td>\n      <td>6.211</td>\n      <td>22.34</td>\n      <td>4.124</td>\n      <td>11.628</td>\n      <td>12.0</td>\n      <td>6.25</td>\n      <td>6.383</td>\n    </tr>\n  </tbody>\n</table>\n</div>"
     },
     "execution_count": 31,
     "metadata": {},
     "output_type": "execute_result"
    }
   ],
   "source": [
    "make_eda_using_correlation_within_damagegrade(train_data, 'public_place_type')"
   ]
  },
  {
   "cell_type": "code",
   "execution_count": 32,
   "metadata": {
    "ExecuteTime": {
     "start_time": "2023-04-19T20:53:06.719367Z",
     "end_time": "2023-04-19T20:53:09.304997Z"
    }
   },
   "outputs": [],
   "source": [
    "public_places = ['shopping sites','recreational park','museum']\n",
    "education_places = ['high school','university','middle school','primary school']\n",
    "health_places = ['drugstore','health clinics','hospital']\n",
    "\n",
    "def handle_public_place_type(public_place):\n",
    "    if public_place in public_places:\n",
    "        return 'public_places'\n",
    "    elif public_place in education_places:\n",
    "        return 'education_places'\n",
    "    elif public_place in health_places:\n",
    "        return 'health_places'\n",
    "    else:\n",
    "        return public_place\n",
    "\n",
    "train_data['public_place_type'] = train_data['public_place_type'].apply(handle_public_place_type)\n",
    "test_data['public_place_type'] = test_data['public_place_type'].apply(handle_public_place_type)"
   ]
  },
  {
   "attachments": {},
   "cell_type": "markdown",
   "metadata": {},
   "source": [
    "### 'position'"
   ]
  },
  {
   "cell_type": "code",
   "execution_count": 33,
   "metadata": {
    "ExecuteTime": {
     "start_time": "2023-04-19T20:53:09.315001Z",
     "end_time": "2023-04-19T20:53:34.185646Z"
    }
   },
   "outputs": [
    {
     "data": {
      "text/plain": "  not attached  NaN attached-1 side attached-2 side attached-3 side\n1        10.36  NaN           8.478          19.366          27.337\n2       11.606  NaN            9.65           15.36          18.272\n3       18.344  NaN          16.242          17.329          16.147\n4       24.121  NaN          24.848          20.193          23.229\n5       35.569  NaN          40.782          27.753          15.014",
      "text/html": "<div>\n<style scoped>\n    .dataframe tbody tr th:only-of-type {\n        vertical-align: middle;\n    }\n\n    .dataframe tbody tr th {\n        vertical-align: top;\n    }\n\n    .dataframe thead th {\n        text-align: right;\n    }\n</style>\n<table border=\"1\" class=\"dataframe\">\n  <thead>\n    <tr style=\"text-align: right;\">\n      <th></th>\n      <th>not attached</th>\n      <th>NaN</th>\n      <th>attached-1 side</th>\n      <th>attached-2 side</th>\n      <th>attached-3 side</th>\n    </tr>\n  </thead>\n  <tbody>\n    <tr>\n      <th>1</th>\n      <td>10.36</td>\n      <td>NaN</td>\n      <td>8.478</td>\n      <td>19.366</td>\n      <td>27.337</td>\n    </tr>\n    <tr>\n      <th>2</th>\n      <td>11.606</td>\n      <td>NaN</td>\n      <td>9.65</td>\n      <td>15.36</td>\n      <td>18.272</td>\n    </tr>\n    <tr>\n      <th>3</th>\n      <td>18.344</td>\n      <td>NaN</td>\n      <td>16.242</td>\n      <td>17.329</td>\n      <td>16.147</td>\n    </tr>\n    <tr>\n      <th>4</th>\n      <td>24.121</td>\n      <td>NaN</td>\n      <td>24.848</td>\n      <td>20.193</td>\n      <td>23.229</td>\n    </tr>\n    <tr>\n      <th>5</th>\n      <td>35.569</td>\n      <td>NaN</td>\n      <td>40.782</td>\n      <td>27.753</td>\n      <td>15.014</td>\n    </tr>\n  </tbody>\n</table>\n</div>"
     },
     "execution_count": 33,
     "metadata": {},
     "output_type": "execute_result"
    }
   ],
   "source": [
    "make_eda_using_correlation_within_damagegrade(train_data, 'position')"
   ]
  },
  {
   "cell_type": "code",
   "execution_count": 34,
   "metadata": {
    "ExecuteTime": {
     "start_time": "2023-04-19T20:53:34.196641Z",
     "end_time": "2023-04-19T20:53:38.081998Z"
    }
   },
   "outputs": [],
   "source": [
    "def handle_position(position):\n",
    "    if position == 'not attached':\n",
    "        return 0\n",
    "    elif position == 'attached-1 side':\n",
    "        return 1\n",
    "    elif position == 'attached-2 side':\n",
    "        return 2\n",
    "    elif position == 'attached-3 side':\n",
    "        return 3\n",
    "    else:\n",
    "        return position\n",
    "\n",
    "train_data['position'] = train_data['position'].apply(handle_position)\n",
    "test_data['position'] = test_data['position'].apply(handle_position)"
   ]
  },
  {
   "attachments": {},
   "cell_type": "markdown",
   "metadata": {},
   "source": [
    "### 'flexible_superstructure'"
   ]
  },
  {
   "cell_type": "code",
   "execution_count": 35,
   "metadata": {
    "ExecuteTime": {
     "start_time": "2023-04-19T20:53:38.085007Z",
     "end_time": "2023-04-19T20:53:41.101293Z"
    }
   },
   "outputs": [],
   "source": [
    "def handle_flexible_superstructure(flexible):\n",
    "    if flexible == 'unavailable':\n",
    "        return 0\n",
    "    elif flexible == 'available':\n",
    "        return 1\n",
    "    else:\n",
    "        return flexible\n",
    "\n",
    "train_data['flexible_superstructure'] = train_data['flexible_superstructure'].apply(handle_flexible_superstructure)\n",
    "test_data['flexible_superstructure'] = test_data['flexible_superstructure'].apply(handle_flexible_superstructure)"
   ]
  },
  {
   "attachments": {},
   "cell_type": "markdown",
   "metadata": {},
   "source": [
    "### 'type_of_reinforcement_concrete'"
   ]
  },
  {
   "cell_type": "code",
   "execution_count": 36,
   "metadata": {
    "ExecuteTime": {
     "start_time": "2023-04-19T20:53:41.114298Z",
     "end_time": "2023-04-19T20:53:50.499013Z"
    }
   },
   "outputs": [
    {
     "data": {
      "text/plain": "      0.0  NaN     2.0     1.0     3.0\n1   8.224  NaN  67.879   38.48  71.429\n2   10.61  NaN  22.935  26.133  18.719\n3  18.218  NaN   7.096  15.558   4.926\n4  25.125  NaN   1.148    8.14   2.956\n5  37.823  NaN   0.942   11.69    1.97",
      "text/html": "<div>\n<style scoped>\n    .dataframe tbody tr th:only-of-type {\n        vertical-align: middle;\n    }\n\n    .dataframe tbody tr th {\n        vertical-align: top;\n    }\n\n    .dataframe thead th {\n        text-align: right;\n    }\n</style>\n<table border=\"1\" class=\"dataframe\">\n  <thead>\n    <tr style=\"text-align: right;\">\n      <th></th>\n      <th>0.0</th>\n      <th>NaN</th>\n      <th>2.0</th>\n      <th>1.0</th>\n      <th>3.0</th>\n    </tr>\n  </thead>\n  <tbody>\n    <tr>\n      <th>1</th>\n      <td>8.224</td>\n      <td>NaN</td>\n      <td>67.879</td>\n      <td>38.48</td>\n      <td>71.429</td>\n    </tr>\n    <tr>\n      <th>2</th>\n      <td>10.61</td>\n      <td>NaN</td>\n      <td>22.935</td>\n      <td>26.133</td>\n      <td>18.719</td>\n    </tr>\n    <tr>\n      <th>3</th>\n      <td>18.218</td>\n      <td>NaN</td>\n      <td>7.096</td>\n      <td>15.558</td>\n      <td>4.926</td>\n    </tr>\n    <tr>\n      <th>4</th>\n      <td>25.125</td>\n      <td>NaN</td>\n      <td>1.148</td>\n      <td>8.14</td>\n      <td>2.956</td>\n    </tr>\n    <tr>\n      <th>5</th>\n      <td>37.823</td>\n      <td>NaN</td>\n      <td>0.942</td>\n      <td>11.69</td>\n      <td>1.97</td>\n    </tr>\n  </tbody>\n</table>\n</div>"
     },
     "execution_count": 36,
     "metadata": {},
     "output_type": "execute_result"
    }
   ],
   "source": [
    "make_eda_using_correlation_within_damagegrade(train_data, 'type_of_reinforcement_concrete')"
   ]
  },
  {
   "cell_type": "code",
   "execution_count": 37,
   "metadata": {
    "ExecuteTime": {
     "start_time": "2023-04-19T20:53:50.525198Z",
     "end_time": "2023-04-19T20:53:52.229353Z"
    }
   },
   "outputs": [],
   "source": [
    "# 0\tNo reinforcement concrete\n",
    "# 1\tHas non-engineered reinforcement concrete\n",
    "# 2\tHas engineered reinforcement concrete\n",
    "# 3\tHas both\n",
    "\n",
    "def make_int(x):\n",
    "    if x == float(0):\n",
    "        return \"no_rc\"\n",
    "    elif x == float(1):\n",
    "        return \"non_engineered_rc\"\n",
    "    elif x == float(2):\n",
    "        return \"engineered_rc\"\n",
    "    elif x == float(3):\n",
    "        return \"both\"\n",
    "    else:\n",
    "        return np.nan\n",
    "\n",
    "train_data['type_of_reinforcement_concrete'] = train_data['type_of_reinforcement_concrete'].apply(make_int)\n",
    "test_data['type_of_reinforcement_concrete'] = test_data['type_of_reinforcement_concrete'].apply(make_int)"
   ]
  },
  {
   "attachments": {},
   "cell_type": "markdown",
   "metadata": {},
   "source": [
    "### 'wall_binding'"
   ]
  },
  {
   "cell_type": "code",
   "execution_count": 38,
   "metadata": {
    "ExecuteTime": {
     "start_time": "2023-04-19T20:53:52.237241Z",
     "end_time": "2023-04-19T20:54:03.300030Z"
    }
   },
   "outputs": [
    {
     "data": {
      "text/plain": "      0.0     5.0  NaN     2.0     1.0     7.0     3.0\n1   41.64   3.742  NaN  44.035   7.269  10.172  16.216\n2  20.616    8.58  NaN  30.306  13.747  18.378  28.716\n3  15.514  17.989  NaN  15.832  27.994  28.784  28.716\n4   9.969  27.248  NaN   5.621  28.612  26.942  16.892\n5  12.261  42.441  NaN   4.206  22.379  15.725   9.459",
      "text/html": "<div>\n<style scoped>\n    .dataframe tbody tr th:only-of-type {\n        vertical-align: middle;\n    }\n\n    .dataframe tbody tr th {\n        vertical-align: top;\n    }\n\n    .dataframe thead th {\n        text-align: right;\n    }\n</style>\n<table border=\"1\" class=\"dataframe\">\n  <thead>\n    <tr style=\"text-align: right;\">\n      <th></th>\n      <th>0.0</th>\n      <th>5.0</th>\n      <th>NaN</th>\n      <th>2.0</th>\n      <th>1.0</th>\n      <th>7.0</th>\n      <th>3.0</th>\n    </tr>\n  </thead>\n  <tbody>\n    <tr>\n      <th>1</th>\n      <td>41.64</td>\n      <td>3.742</td>\n      <td>NaN</td>\n      <td>44.035</td>\n      <td>7.269</td>\n      <td>10.172</td>\n      <td>16.216</td>\n    </tr>\n    <tr>\n      <th>2</th>\n      <td>20.616</td>\n      <td>8.58</td>\n      <td>NaN</td>\n      <td>30.306</td>\n      <td>13.747</td>\n      <td>18.378</td>\n      <td>28.716</td>\n    </tr>\n    <tr>\n      <th>3</th>\n      <td>15.514</td>\n      <td>17.989</td>\n      <td>NaN</td>\n      <td>15.832</td>\n      <td>27.994</td>\n      <td>28.784</td>\n      <td>28.716</td>\n    </tr>\n    <tr>\n      <th>4</th>\n      <td>9.969</td>\n      <td>27.248</td>\n      <td>NaN</td>\n      <td>5.621</td>\n      <td>28.612</td>\n      <td>26.942</td>\n      <td>16.892</td>\n    </tr>\n    <tr>\n      <th>5</th>\n      <td>12.261</td>\n      <td>42.441</td>\n      <td>NaN</td>\n      <td>4.206</td>\n      <td>22.379</td>\n      <td>15.725</td>\n      <td>9.459</td>\n    </tr>\n  </tbody>\n</table>\n</div>"
     },
     "execution_count": 38,
     "metadata": {},
     "output_type": "execute_result"
    }
   ],
   "source": [
    "make_eda_using_correlation_within_damagegrade(train_data, 'wall_binding')"
   ]
  },
  {
   "cell_type": "code",
   "execution_count": 39,
   "metadata": {
    "ExecuteTime": {
     "start_time": "2023-04-19T20:54:03.302027Z",
     "end_time": "2023-04-19T20:54:05.302618Z"
    }
   },
   "outputs": [],
   "source": [
    "def make_int(val):\n",
    "    if val == float(0):\n",
    "        return \"other\"\n",
    "    \n",
    "    elif val == float(1):\n",
    "        return \"clay\"\n",
    "    \n",
    "    elif val == float(2):\n",
    "        return \"mortar_cement\"\n",
    "\n",
    "    elif val == float(3):\n",
    "        return \"mortar_cement_clay\"\n",
    "    \n",
    "    elif val == float(5):\n",
    "        return \"mud_mortar_clay\"\n",
    "    \n",
    "    elif val == float(7):\n",
    "        return \"mud_mortar_clay_cement_mortar\"\n",
    "    \n",
    "    else:\n",
    "        return np.nan\n",
    "\n",
    "train_data['wall_binding'] = train_data['wall_binding'].apply(make_int)\n",
    "test_data['wall_binding'] = test_data['wall_binding'].apply(make_int)"
   ]
  },
  {
   "attachments": {},
   "cell_type": "markdown",
   "metadata": {},
   "source": [
    "### wall_material"
   ]
  },
  {
   "cell_type": "code",
   "execution_count": 40,
   "metadata": {
    "ExecuteTime": {
     "start_time": "2023-04-19T20:54:05.329908Z",
     "end_time": "2023-04-19T20:54:16.134907Z"
    }
   },
   "outputs": [
    {
     "data": {
      "text/plain": "      0.0     2.0  NaN     1.0     3.0\n1  40.844   3.813  NaN  38.423  15.055\n2  21.161   8.487  NaN  28.842  17.038\n3  17.646   17.89  NaN  18.325  24.522\n4   11.33  27.009  NaN   9.936  22.539\n5   9.019    42.8  NaN   4.475  20.845",
      "text/html": "<div>\n<style scoped>\n    .dataframe tbody tr th:only-of-type {\n        vertical-align: middle;\n    }\n\n    .dataframe tbody tr th {\n        vertical-align: top;\n    }\n\n    .dataframe thead th {\n        text-align: right;\n    }\n</style>\n<table border=\"1\" class=\"dataframe\">\n  <thead>\n    <tr style=\"text-align: right;\">\n      <th></th>\n      <th>0.0</th>\n      <th>2.0</th>\n      <th>NaN</th>\n      <th>1.0</th>\n      <th>3.0</th>\n    </tr>\n  </thead>\n  <tbody>\n    <tr>\n      <th>1</th>\n      <td>40.844</td>\n      <td>3.813</td>\n      <td>NaN</td>\n      <td>38.423</td>\n      <td>15.055</td>\n    </tr>\n    <tr>\n      <th>2</th>\n      <td>21.161</td>\n      <td>8.487</td>\n      <td>NaN</td>\n      <td>28.842</td>\n      <td>17.038</td>\n    </tr>\n    <tr>\n      <th>3</th>\n      <td>17.646</td>\n      <td>17.89</td>\n      <td>NaN</td>\n      <td>18.325</td>\n      <td>24.522</td>\n    </tr>\n    <tr>\n      <th>4</th>\n      <td>11.33</td>\n      <td>27.009</td>\n      <td>NaN</td>\n      <td>9.936</td>\n      <td>22.539</td>\n    </tr>\n    <tr>\n      <th>5</th>\n      <td>9.019</td>\n      <td>42.8</td>\n      <td>NaN</td>\n      <td>4.475</td>\n      <td>20.845</td>\n    </tr>\n  </tbody>\n</table>\n</div>"
     },
     "execution_count": 40,
     "metadata": {},
     "output_type": "execute_result"
    }
   ],
   "source": [
    "make_eda_using_correlation_within_damagegrade(train_data, 'wall_material')"
   ]
  },
  {
   "cell_type": "code",
   "execution_count": 41,
   "metadata": {
    "ExecuteTime": {
     "start_time": "2023-04-19T20:54:16.150372Z",
     "end_time": "2023-04-19T20:54:17.823927Z"
    }
   },
   "outputs": [],
   "source": [
    "# 0\tUnknown/not stated\n",
    "# 1\tRed Bricks\n",
    "# 2\tStone Bricks\n",
    "# 3\tRed Bricks, Stone Bricks\n",
    "\n",
    "def make_int(val):\n",
    "    if val == float(0):\n",
    "        return \"unknown\"\n",
    "    \n",
    "    elif val == float(1):\n",
    "        return \"red_bricks\"\n",
    "    \n",
    "    elif val == float(2):\n",
    "        return \"stone_bricks\"\n",
    "\n",
    "    elif val == float(3):\n",
    "        return \"red_stone_bricks\"\n",
    "    \n",
    "    else:\n",
    "        return np.nan\n",
    "\n",
    "train_data['wall_material'] = train_data['wall_material'].apply(make_int)\n",
    "test_data['wall_material'] = test_data['wall_material'].apply(make_int)"
   ]
  },
  {
   "cell_type": "code",
   "execution_count": 42,
   "metadata": {
    "ExecuteTime": {
     "start_time": "2023-04-19T20:54:17.821916Z",
     "end_time": "2023-04-19T20:54:30.727089Z"
    }
   },
   "outputs": [
    {
     "name": "stdout",
     "output_type": "stream",
     "text": [
      "---------before drop duplicated rows---------\n",
      "Shape of train data:  (722815, 25)\n",
      "Duplicated rows: 373833\n",
      "---------after drop duplicated rows---------\n",
      "Dropped duplicated rows: 0\n",
      "Shape of train data:  (348982, 25)\n"
     ]
    }
   ],
   "source": [
    "# Drop duplicated rows\n",
    "print(\"---------before drop duplicated rows---------\")\n",
    "print(\"Shape of train data: \", train_data.shape)\n",
    "print(f\"Duplicated rows: {train_data.duplicated().sum()}\")\n",
    "train_data = train_data.drop_duplicates()\n",
    "\n",
    "print(\"---------after drop duplicated rows---------\")\n",
    "print(f\"Dropped duplicated rows: {train_data.duplicated().sum()}\")\n",
    "print(\"Shape of train data: \", train_data.shape)"
   ]
  },
  {
   "cell_type": "code",
   "execution_count": 43,
   "metadata": {
    "ExecuteTime": {
     "start_time": "2023-04-19T20:54:30.736260Z",
     "end_time": "2023-04-19T20:54:30.896644Z"
    }
   },
   "outputs": [
    {
     "name": "stdout",
     "output_type": "stream",
     "text": [
      "[1 5 4 2 3]\n"
     ]
    }
   ],
   "source": [
    "# damage_grade change into int\n",
    "\n",
    "train_data['damage_grade'] = train_data['damage_grade'].astype(int)\n",
    "print(train_data['damage_grade'].unique())"
   ]
  },
  {
   "attachments": {},
   "cell_type": "markdown",
   "metadata": {},
   "source": [
    "## Export the cleaned data to csv file"
   ]
  },
  {
   "cell_type": "code",
   "execution_count": 44,
   "metadata": {
    "ExecuteTime": {
     "start_time": "2023-04-19T20:54:30.882647Z",
     "end_time": "2023-04-19T20:55:03.542922Z"
    }
   },
   "outputs": [],
   "source": [
    "train_data.to_csv('train_data.csv', index=False)\n",
    "test_data.to_csv('test_data.csv', index=False)"
   ]
  }
 ],
 "metadata": {
  "kernelspec": {
   "display_name": "Python 3",
   "language": "python",
   "name": "python3"
  },
  "language_info": {
   "codemirror_mode": {
    "name": "ipython",
    "version": 3
   },
   "file_extension": ".py",
   "mimetype": "text/x-python",
   "name": "python",
   "nbconvert_exporter": "python",
   "pygments_lexer": "ipython3",
   "version": "3.11.2"
  },
  "orig_nbformat": 4
 },
 "nbformat": 4,
 "nbformat_minor": 2
}
