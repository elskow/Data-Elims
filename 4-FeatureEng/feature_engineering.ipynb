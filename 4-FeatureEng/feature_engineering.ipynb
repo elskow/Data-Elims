{
 "cells": [
  {
   "cell_type": "code",
   "execution_count": 1,
   "metadata": {},
   "outputs": [],
   "source": [
    "import numpy as np # linear algebra\n",
    "import pandas as pd # data processing, CSV file I/O (e.g. pd.read_csv)\n",
    "pd.set_option('display.max_colwidth', None)\n",
    "pd.set_option('display.max_columns', None)\n",
    "pd.set_option('display.max_rows', None)\n",
    "# Specify dtype option on import or set low_memory=False.\n",
    "pd.options.mode.chained_assignment = None  # default='warn'\n",
    "\n",
    "import math\n",
    "import scipy\n",
    "\n",
    "# Datviz purposes\n",
    "import matplotlib.pyplot as plt\n",
    "plt.style.use('bmh')\n",
    "import seaborn as sns\n",
    "sns.set_style('darkgrid')\n",
    "import plotly.express as px\n",
    "import missingno as msno"
   ]
  },
  {
   "cell_type": "code",
   "execution_count": 2,
   "metadata": {},
   "outputs": [],
   "source": [
    "try :\n",
    "    train_data = pd.read_csv(\"/kaggle/input/penyisihan-joints-data-competition-2023/train.csv\", low_memory=False)\n",
    "    test_data = pd.read_csv(\"/kaggle/input/penyisihan-joints-data-competition-2023/test.csv\", low_memory=False) # For Kaggle\n",
    "\n",
    "except :\n",
    "    train_data = pd.read_csv(\"../2-DataInterpolation/train_data.csv\", low_memory=False)\n",
    "    test_data = pd.read_csv(\"../2-DataInterpolation/test_data.csv\", low_memory=False) # For local"
   ]
  },
  {
   "cell_type": "code",
   "execution_count": 3,
   "metadata": {},
   "outputs": [
    {
     "data": {
      "text/html": [
       "<div>\n",
       "<style scoped>\n",
       "    .dataframe tbody tr th:only-of-type {\n",
       "        vertical-align: middle;\n",
       "    }\n",
       "\n",
       "    .dataframe tbody tr th {\n",
       "        vertical-align: top;\n",
       "    }\n",
       "\n",
       "    .dataframe thead th {\n",
       "        text-align: right;\n",
       "    }\n",
       "</style>\n",
       "<table border=\"1\" class=\"dataframe\">\n",
       "  <thead>\n",
       "    <tr style=\"text-align: right;\">\n",
       "      <th></th>\n",
       "      <th>Data Type</th>\n",
       "    </tr>\n",
       "  </thead>\n",
       "  <tbody>\n",
       "    <tr>\n",
       "      <th>floors_before_eq(total)</th>\n",
       "      <td>float64</td>\n",
       "    </tr>\n",
       "    <tr>\n",
       "      <th>old_building</th>\n",
       "      <td>float64</td>\n",
       "    </tr>\n",
       "    <tr>\n",
       "      <th>plinth_area(ft^2)</th>\n",
       "      <td>float64</td>\n",
       "    </tr>\n",
       "    <tr>\n",
       "      <th>height_before_eq(ft)</th>\n",
       "      <td>float64</td>\n",
       "    </tr>\n",
       "    <tr>\n",
       "      <th>land_surface_condition</th>\n",
       "      <td>object</td>\n",
       "    </tr>\n",
       "    <tr>\n",
       "      <th>type_of_foundation</th>\n",
       "      <td>object</td>\n",
       "    </tr>\n",
       "    <tr>\n",
       "      <th>type_of_roof</th>\n",
       "      <td>object</td>\n",
       "    </tr>\n",
       "    <tr>\n",
       "      <th>type_of_ground_floor</th>\n",
       "      <td>object</td>\n",
       "    </tr>\n",
       "    <tr>\n",
       "      <th>type_of_other_floor</th>\n",
       "      <td>object</td>\n",
       "    </tr>\n",
       "    <tr>\n",
       "      <th>position</th>\n",
       "      <td>float64</td>\n",
       "    </tr>\n",
       "    <tr>\n",
       "      <th>building_plan_configuration</th>\n",
       "      <td>object</td>\n",
       "    </tr>\n",
       "    <tr>\n",
       "      <th>legal_ownership_status</th>\n",
       "      <td>object</td>\n",
       "    </tr>\n",
       "    <tr>\n",
       "      <th>has_secondary_use</th>\n",
       "      <td>float64</td>\n",
       "    </tr>\n",
       "    <tr>\n",
       "      <th>type_of_reinforcement_concrete</th>\n",
       "      <td>object</td>\n",
       "    </tr>\n",
       "    <tr>\n",
       "      <th>residential_type</th>\n",
       "      <td>object</td>\n",
       "    </tr>\n",
       "    <tr>\n",
       "      <th>no_family_residing</th>\n",
       "      <td>float64</td>\n",
       "    </tr>\n",
       "    <tr>\n",
       "      <th>public_place_type</th>\n",
       "      <td>object</td>\n",
       "    </tr>\n",
       "    <tr>\n",
       "      <th>industrial_use_type</th>\n",
       "      <td>object</td>\n",
       "    </tr>\n",
       "    <tr>\n",
       "      <th>govermental_use_type</th>\n",
       "      <td>object</td>\n",
       "    </tr>\n",
       "    <tr>\n",
       "      <th>flexible_superstructure</th>\n",
       "      <td>float64</td>\n",
       "    </tr>\n",
       "    <tr>\n",
       "      <th>wall_binding</th>\n",
       "      <td>object</td>\n",
       "    </tr>\n",
       "    <tr>\n",
       "      <th>wall_material</th>\n",
       "      <td>object</td>\n",
       "    </tr>\n",
       "    <tr>\n",
       "      <th>damage_grade</th>\n",
       "      <td>int64</td>\n",
       "    </tr>\n",
       "    <tr>\n",
       "      <th>ismorethanplintharea</th>\n",
       "      <td>int64</td>\n",
       "    </tr>\n",
       "    <tr>\n",
       "      <th>reconstruction</th>\n",
       "      <td>int64</td>\n",
       "    </tr>\n",
       "    <tr>\n",
       "      <th>major_repair</th>\n",
       "      <td>int64</td>\n",
       "    </tr>\n",
       "    <tr>\n",
       "      <th>minor_repair</th>\n",
       "      <td>int64</td>\n",
       "    </tr>\n",
       "    <tr>\n",
       "      <th>no_need</th>\n",
       "      <td>int64</td>\n",
       "    </tr>\n",
       "  </tbody>\n",
       "</table>\n",
       "</div>"
      ],
      "text/plain": [
       "                               Data Type\n",
       "floors_before_eq(total)          float64\n",
       "old_building                     float64\n",
       "plinth_area(ft^2)                float64\n",
       "height_before_eq(ft)             float64\n",
       "land_surface_condition            object\n",
       "type_of_foundation                object\n",
       "type_of_roof                      object\n",
       "type_of_ground_floor              object\n",
       "type_of_other_floor               object\n",
       "position                         float64\n",
       "building_plan_configuration       object\n",
       "legal_ownership_status            object\n",
       "has_secondary_use                float64\n",
       "type_of_reinforcement_concrete    object\n",
       "residential_type                  object\n",
       "no_family_residing               float64\n",
       "public_place_type                 object\n",
       "industrial_use_type               object\n",
       "govermental_use_type              object\n",
       "flexible_superstructure          float64\n",
       "wall_binding                      object\n",
       "wall_material                     object\n",
       "damage_grade                       int64\n",
       "ismorethanplintharea               int64\n",
       "reconstruction                     int64\n",
       "major_repair                       int64\n",
       "minor_repair                       int64\n",
       "no_need                            int64"
      ]
     },
     "execution_count": 3,
     "metadata": {},
     "output_type": "execute_result"
    }
   ],
   "source": [
    "pd.DataFrame(train_data.dtypes, columns=['Data Type'])"
   ]
  },
  {
   "cell_type": "code",
   "execution_count": 4,
   "metadata": {},
   "outputs": [
    {
     "data": {
      "text/html": [
       "<div>\n",
       "<style scoped>\n",
       "    .dataframe tbody tr th:only-of-type {\n",
       "        vertical-align: middle;\n",
       "    }\n",
       "\n",
       "    .dataframe tbody tr th {\n",
       "        vertical-align: top;\n",
       "    }\n",
       "\n",
       "    .dataframe thead th {\n",
       "        text-align: right;\n",
       "    }\n",
       "</style>\n",
       "<table border=\"1\" class=\"dataframe\">\n",
       "  <thead>\n",
       "    <tr style=\"text-align: right;\">\n",
       "      <th></th>\n",
       "      <th>Data Type</th>\n",
       "    </tr>\n",
       "  </thead>\n",
       "  <tbody>\n",
       "    <tr>\n",
       "      <th>id</th>\n",
       "      <td>int64</td>\n",
       "    </tr>\n",
       "    <tr>\n",
       "      <th>floors_before_eq(total)</th>\n",
       "      <td>int64</td>\n",
       "    </tr>\n",
       "    <tr>\n",
       "      <th>old_building</th>\n",
       "      <td>int64</td>\n",
       "    </tr>\n",
       "    <tr>\n",
       "      <th>plinth_area(ft^2)</th>\n",
       "      <td>float64</td>\n",
       "    </tr>\n",
       "    <tr>\n",
       "      <th>height_before_eq(ft)</th>\n",
       "      <td>int64</td>\n",
       "    </tr>\n",
       "    <tr>\n",
       "      <th>land_surface_condition</th>\n",
       "      <td>object</td>\n",
       "    </tr>\n",
       "    <tr>\n",
       "      <th>type_of_foundation</th>\n",
       "      <td>object</td>\n",
       "    </tr>\n",
       "    <tr>\n",
       "      <th>type_of_roof</th>\n",
       "      <td>object</td>\n",
       "    </tr>\n",
       "    <tr>\n",
       "      <th>type_of_ground_floor</th>\n",
       "      <td>object</td>\n",
       "    </tr>\n",
       "    <tr>\n",
       "      <th>type_of_other_floor</th>\n",
       "      <td>object</td>\n",
       "    </tr>\n",
       "    <tr>\n",
       "      <th>position</th>\n",
       "      <td>int64</td>\n",
       "    </tr>\n",
       "    <tr>\n",
       "      <th>building_plan_configuration</th>\n",
       "      <td>object</td>\n",
       "    </tr>\n",
       "    <tr>\n",
       "      <th>legal_ownership_status</th>\n",
       "      <td>object</td>\n",
       "    </tr>\n",
       "    <tr>\n",
       "      <th>has_secondary_use</th>\n",
       "      <td>float64</td>\n",
       "    </tr>\n",
       "    <tr>\n",
       "      <th>type_of_reinforcement_concrete</th>\n",
       "      <td>object</td>\n",
       "    </tr>\n",
       "    <tr>\n",
       "      <th>residential_type</th>\n",
       "      <td>object</td>\n",
       "    </tr>\n",
       "    <tr>\n",
       "      <th>no_family_residing</th>\n",
       "      <td>float64</td>\n",
       "    </tr>\n",
       "    <tr>\n",
       "      <th>public_place_type</th>\n",
       "      <td>object</td>\n",
       "    </tr>\n",
       "    <tr>\n",
       "      <th>industrial_use_type</th>\n",
       "      <td>object</td>\n",
       "    </tr>\n",
       "    <tr>\n",
       "      <th>govermental_use_type</th>\n",
       "      <td>object</td>\n",
       "    </tr>\n",
       "    <tr>\n",
       "      <th>flexible_superstructure</th>\n",
       "      <td>int64</td>\n",
       "    </tr>\n",
       "    <tr>\n",
       "      <th>wall_binding</th>\n",
       "      <td>object</td>\n",
       "    </tr>\n",
       "    <tr>\n",
       "      <th>wall_material</th>\n",
       "      <td>object</td>\n",
       "    </tr>\n",
       "    <tr>\n",
       "      <th>ismorethanplintharea</th>\n",
       "      <td>int64</td>\n",
       "    </tr>\n",
       "    <tr>\n",
       "      <th>reconstruction</th>\n",
       "      <td>int64</td>\n",
       "    </tr>\n",
       "    <tr>\n",
       "      <th>major_repair</th>\n",
       "      <td>int64</td>\n",
       "    </tr>\n",
       "    <tr>\n",
       "      <th>minor_repair</th>\n",
       "      <td>int64</td>\n",
       "    </tr>\n",
       "    <tr>\n",
       "      <th>no_need</th>\n",
       "      <td>int64</td>\n",
       "    </tr>\n",
       "  </tbody>\n",
       "</table>\n",
       "</div>"
      ],
      "text/plain": [
       "                               Data Type\n",
       "id                                 int64\n",
       "floors_before_eq(total)            int64\n",
       "old_building                       int64\n",
       "plinth_area(ft^2)                float64\n",
       "height_before_eq(ft)               int64\n",
       "land_surface_condition            object\n",
       "type_of_foundation                object\n",
       "type_of_roof                      object\n",
       "type_of_ground_floor              object\n",
       "type_of_other_floor               object\n",
       "position                           int64\n",
       "building_plan_configuration       object\n",
       "legal_ownership_status            object\n",
       "has_secondary_use                float64\n",
       "type_of_reinforcement_concrete    object\n",
       "residential_type                  object\n",
       "no_family_residing               float64\n",
       "public_place_type                 object\n",
       "industrial_use_type               object\n",
       "govermental_use_type              object\n",
       "flexible_superstructure            int64\n",
       "wall_binding                      object\n",
       "wall_material                     object\n",
       "ismorethanplintharea               int64\n",
       "reconstruction                     int64\n",
       "major_repair                       int64\n",
       "minor_repair                       int64\n",
       "no_need                            int64"
      ]
     },
     "execution_count": 4,
     "metadata": {},
     "output_type": "execute_result"
    }
   ],
   "source": [
    "pd.DataFrame(test_data.dtypes, columns=['Data Type'])"
   ]
  },
  {
   "attachments": {},
   "cell_type": "markdown",
   "metadata": {},
   "source": [
    "## Change Data Type"
   ]
  },
  {
   "cell_type": "code",
   "execution_count": 5,
   "metadata": {},
   "outputs": [],
   "source": [
    "# change into int\n",
    "train_data['floors_before_eq(total)'] = train_data['floors_before_eq(total)'].astype(int)\n",
    "train_data['old_building'] = train_data['old_building'].astype(int)\n",
    "train_data['plinth_area(ft^2)'] = train_data['plinth_area(ft^2)'].astype(int)\n",
    "train_data['height_before_eq(ft)'] = train_data['height_before_eq(ft)'].astype(int)\n",
    "train_data['position'] = train_data['position'].astype(int)\n",
    "train_data['has_secondary_use'] = train_data['has_secondary_use'].astype(int)\n",
    "train_data['no_family_residing'] = train_data['no_family_residing'].astype(int)\n",
    "train_data['flexible_superstructure'] = train_data['flexible_superstructure'].astype(int)"
   ]
  },
  {
   "cell_type": "code",
   "execution_count": 6,
   "metadata": {},
   "outputs": [
    {
     "data": {
      "text/html": [
       "<div>\n",
       "<style scoped>\n",
       "    .dataframe tbody tr th:only-of-type {\n",
       "        vertical-align: middle;\n",
       "    }\n",
       "\n",
       "    .dataframe tbody tr th {\n",
       "        vertical-align: top;\n",
       "    }\n",
       "\n",
       "    .dataframe thead th {\n",
       "        text-align: right;\n",
       "    }\n",
       "</style>\n",
       "<table border=\"1\" class=\"dataframe\">\n",
       "  <thead>\n",
       "    <tr style=\"text-align: right;\">\n",
       "      <th></th>\n",
       "      <th>Data Type</th>\n",
       "    </tr>\n",
       "  </thead>\n",
       "  <tbody>\n",
       "    <tr>\n",
       "      <th>floors_before_eq(total)</th>\n",
       "      <td>int64</td>\n",
       "    </tr>\n",
       "    <tr>\n",
       "      <th>old_building</th>\n",
       "      <td>int64</td>\n",
       "    </tr>\n",
       "    <tr>\n",
       "      <th>plinth_area(ft^2)</th>\n",
       "      <td>int64</td>\n",
       "    </tr>\n",
       "    <tr>\n",
       "      <th>height_before_eq(ft)</th>\n",
       "      <td>int64</td>\n",
       "    </tr>\n",
       "    <tr>\n",
       "      <th>land_surface_condition</th>\n",
       "      <td>object</td>\n",
       "    </tr>\n",
       "    <tr>\n",
       "      <th>type_of_foundation</th>\n",
       "      <td>object</td>\n",
       "    </tr>\n",
       "    <tr>\n",
       "      <th>type_of_roof</th>\n",
       "      <td>object</td>\n",
       "    </tr>\n",
       "    <tr>\n",
       "      <th>type_of_ground_floor</th>\n",
       "      <td>object</td>\n",
       "    </tr>\n",
       "    <tr>\n",
       "      <th>type_of_other_floor</th>\n",
       "      <td>object</td>\n",
       "    </tr>\n",
       "    <tr>\n",
       "      <th>position</th>\n",
       "      <td>int64</td>\n",
       "    </tr>\n",
       "    <tr>\n",
       "      <th>building_plan_configuration</th>\n",
       "      <td>object</td>\n",
       "    </tr>\n",
       "    <tr>\n",
       "      <th>legal_ownership_status</th>\n",
       "      <td>object</td>\n",
       "    </tr>\n",
       "    <tr>\n",
       "      <th>has_secondary_use</th>\n",
       "      <td>int64</td>\n",
       "    </tr>\n",
       "    <tr>\n",
       "      <th>type_of_reinforcement_concrete</th>\n",
       "      <td>object</td>\n",
       "    </tr>\n",
       "    <tr>\n",
       "      <th>residential_type</th>\n",
       "      <td>object</td>\n",
       "    </tr>\n",
       "    <tr>\n",
       "      <th>no_family_residing</th>\n",
       "      <td>int64</td>\n",
       "    </tr>\n",
       "    <tr>\n",
       "      <th>public_place_type</th>\n",
       "      <td>object</td>\n",
       "    </tr>\n",
       "    <tr>\n",
       "      <th>industrial_use_type</th>\n",
       "      <td>object</td>\n",
       "    </tr>\n",
       "    <tr>\n",
       "      <th>govermental_use_type</th>\n",
       "      <td>object</td>\n",
       "    </tr>\n",
       "    <tr>\n",
       "      <th>flexible_superstructure</th>\n",
       "      <td>int64</td>\n",
       "    </tr>\n",
       "    <tr>\n",
       "      <th>wall_binding</th>\n",
       "      <td>object</td>\n",
       "    </tr>\n",
       "    <tr>\n",
       "      <th>wall_material</th>\n",
       "      <td>object</td>\n",
       "    </tr>\n",
       "    <tr>\n",
       "      <th>damage_grade</th>\n",
       "      <td>int64</td>\n",
       "    </tr>\n",
       "    <tr>\n",
       "      <th>ismorethanplintharea</th>\n",
       "      <td>int64</td>\n",
       "    </tr>\n",
       "    <tr>\n",
       "      <th>reconstruction</th>\n",
       "      <td>int64</td>\n",
       "    </tr>\n",
       "    <tr>\n",
       "      <th>major_repair</th>\n",
       "      <td>int64</td>\n",
       "    </tr>\n",
       "    <tr>\n",
       "      <th>minor_repair</th>\n",
       "      <td>int64</td>\n",
       "    </tr>\n",
       "    <tr>\n",
       "      <th>no_need</th>\n",
       "      <td>int64</td>\n",
       "    </tr>\n",
       "  </tbody>\n",
       "</table>\n",
       "</div>"
      ],
      "text/plain": [
       "                               Data Type\n",
       "floors_before_eq(total)            int64\n",
       "old_building                       int64\n",
       "plinth_area(ft^2)                  int64\n",
       "height_before_eq(ft)               int64\n",
       "land_surface_condition            object\n",
       "type_of_foundation                object\n",
       "type_of_roof                      object\n",
       "type_of_ground_floor              object\n",
       "type_of_other_floor               object\n",
       "position                           int64\n",
       "building_plan_configuration       object\n",
       "legal_ownership_status            object\n",
       "has_secondary_use                  int64\n",
       "type_of_reinforcement_concrete    object\n",
       "residential_type                  object\n",
       "no_family_residing                 int64\n",
       "public_place_type                 object\n",
       "industrial_use_type               object\n",
       "govermental_use_type              object\n",
       "flexible_superstructure            int64\n",
       "wall_binding                      object\n",
       "wall_material                     object\n",
       "damage_grade                       int64\n",
       "ismorethanplintharea               int64\n",
       "reconstruction                     int64\n",
       "major_repair                       int64\n",
       "minor_repair                       int64\n",
       "no_need                            int64"
      ]
     },
     "execution_count": 6,
     "metadata": {},
     "output_type": "execute_result"
    }
   ],
   "source": [
    "pd.DataFrame(train_data.dtypes, columns=['Data Type'])"
   ]
  },
  {
   "attachments": {},
   "cell_type": "markdown",
   "metadata": {},
   "source": [
    "## Add feature to calculate how height per floor"
   ]
  },
  {
   "cell_type": "code",
   "execution_count": 10,
   "metadata": {},
   "outputs": [],
   "source": [
    "train_data['height_per_floor'] = train_data['height_before_eq(ft)'] / train_data['floors_before_eq(total)'] * 0.1\n",
    "test_data['height_per_floor'] = test_data['height_before_eq(ft)'] / test_data['floors_before_eq(total)'] * 0.1"
   ]
  },
  {
   "cell_type": "code",
   "execution_count": 11,
   "metadata": {},
   "outputs": [
    {
     "data": {
      "text/plain": [
       "count    335455.000000\n",
       "mean          0.792138\n",
       "std           0.209394\n",
       "min           0.100000\n",
       "25%           0.666667\n",
       "50%           0.750000\n",
       "75%           0.900000\n",
       "max           9.900000\n",
       "Name: height_per_floor, dtype: float64"
      ]
     },
     "execution_count": 11,
     "metadata": {},
     "output_type": "execute_result"
    }
   ],
   "source": [
    "train_data['height_per_floor'].describe()"
   ]
  },
  {
   "attachments": {},
   "cell_type": "markdown",
   "metadata": {},
   "source": [
    "## Sort ordinal variables by damage grade"
   ]
  },
  {
   "cell_type": "code",
   "execution_count": 15,
   "metadata": {},
   "outputs": [],
   "source": [
    "def sort_by_damagegrade(df, cols):\n",
    "    correlate = pd.DataFrame(\n",
    "    index=['1', '2','3','4','5'], \n",
    "    columns=df[cols].unique())\n",
    "\n",
    "    for j  in df[cols].unique():\n",
    "        try : \n",
    "            \n",
    "            correlate.loc[correlate.index == '1', j]= \\\n",
    "                np.round(sum((df[cols]==j)&\\\n",
    "                            (df['damage_grade']==1))/sum(df[cols]==j) * 100, 3)\n",
    "            \n",
    "            correlate.loc[correlate.index == '2', j]= \\\n",
    "                np.round(sum((df[cols]==j)&\\\n",
    "                            (df['damage_grade']==2))/sum(df[cols]==j) * 100, 3)\n",
    "            \n",
    "            correlate.loc[correlate.index == '3', j]= \\\n",
    "                np.round(sum((df[cols]==j)&\\\n",
    "                            (df['damage_grade']==3))/sum(df[cols]==j) * 100, 3)\n",
    "            \n",
    "            correlate.loc[correlate.index == '4', j]= \\\n",
    "                np.round(sum((df[cols]==j)&\\\n",
    "                            (df['damage_grade']==4))/sum(df[cols]==j) * 100, 3)\n",
    "            \n",
    "            correlate.loc[correlate.index == '5', j]= \\\n",
    "                np.round(sum((df[cols]==j)&\\\n",
    "                            (df['damage_grade']==5))/sum(df[cols]==j) * 100, 3)\n",
    "            \n",
    "        except :\n",
    "            pass\n",
    "\n",
    "    correlate = correlate.T\n",
    "    correlate['damagepoint'] = correlate['1'] * 1 + correlate['2'] * 2 + correlate['3'] * 3 + correlate['4'] * 4 + correlate['5'] * 5\n",
    "\n",
    "    # short based on damagepoint\n",
    "    correlate = correlate.sort_values(by='damagepoint', ascending=True)\n",
    "    return correlate.index"
   ]
  },
  {
   "attachments": {},
   "cell_type": "markdown",
   "metadata": {},
   "source": [
    "### land_surface_condition"
   ]
  },
  {
   "cell_type": "code",
   "execution_count": 16,
   "metadata": {},
   "outputs": [],
   "source": [
    "i = 0\n",
    "\n",
    "for value in sort_by_damagegrade(train_data, 'land_surface_condition'):\n",
    "    # change value of land_surface_condition into i\n",
    "    train_data.loc[train_data['land_surface_condition'] == value, 'land_surface_condition'] = i\n",
    "    test_data.loc[test_data['land_surface_condition'] == value, 'land_surface_condition'] = i\n",
    "    i += 1"
   ]
  },
  {
   "cell_type": "code",
   "execution_count": 17,
   "metadata": {},
   "outputs": [
    {
     "data": {
      "text/plain": [
       "array([0, 1, 2], dtype=object)"
      ]
     },
     "execution_count": 17,
     "metadata": {},
     "output_type": "execute_result"
    }
   ],
   "source": [
    "train_data['land_surface_condition'].unique()"
   ]
  },
  {
   "attachments": {},
   "cell_type": "markdown",
   "metadata": {},
   "source": [
    "### type_of_foundation"
   ]
  },
  {
   "cell_type": "code",
   "execution_count": 18,
   "metadata": {},
   "outputs": [
    {
     "data": {
      "text/plain": [
       "array([1, 4, 0, 2, 3], dtype=object)"
      ]
     },
     "execution_count": 18,
     "metadata": {},
     "output_type": "execute_result"
    }
   ],
   "source": [
    "i = 0\n",
    "for value in sort_by_damagegrade(train_data, 'type_of_foundation'):\n",
    "    train_data.loc[train_data['type_of_foundation'] == value, 'type_of_foundation'] = i\n",
    "    test_data.loc[test_data['type_of_foundation'] == value, 'type_of_foundation'] = i\n",
    "    i += 1\n",
    "\n",
    "train_data['type_of_foundation'].unique()"
   ]
  },
  {
   "attachments": {},
   "cell_type": "markdown",
   "metadata": {},
   "source": [
    "### type_of_roof"
   ]
  },
  {
   "cell_type": "code",
   "execution_count": 19,
   "metadata": {},
   "outputs": [
    {
     "data": {
      "text/plain": [
       "array([1, 2, 0], dtype=object)"
      ]
     },
     "execution_count": 19,
     "metadata": {},
     "output_type": "execute_result"
    }
   ],
   "source": [
    "i = 0\n",
    "for value in sort_by_damagegrade(train_data, 'type_of_roof'):\n",
    "    train_data.loc[train_data['type_of_roof'] == value, 'type_of_roof'] = i\n",
    "    test_data.loc[test_data['type_of_roof'] == value, 'type_of_roof'] = i\n",
    "    i += 1\n",
    "\n",
    "train_data['type_of_roof'].unique()"
   ]
  },
  {
   "attachments": {},
   "cell_type": "markdown",
   "metadata": {},
   "source": [
    "### type_of_ground_floor\t"
   ]
  },
  {
   "cell_type": "code",
   "execution_count": 20,
   "metadata": {},
   "outputs": [
    {
     "data": {
      "text/plain": [
       "array([4, 3, 0, 1, 2], dtype=object)"
      ]
     },
     "execution_count": 20,
     "metadata": {},
     "output_type": "execute_result"
    }
   ],
   "source": [
    "i = 0\n",
    "for value in sort_by_damagegrade(train_data, 'type_of_ground_floor'):\n",
    "    train_data.loc[train_data['type_of_ground_floor'] == value, 'type_of_ground_floor'] = i\n",
    "    test_data.loc[test_data['type_of_ground_floor'] == value, 'type_of_ground_floor'] = i\n",
    "    i += 1\n",
    "\n",
    "train_data['type_of_ground_floor'].unique()"
   ]
  },
  {
   "attachments": {},
   "cell_type": "markdown",
   "metadata": {},
   "source": [
    "### type_of_other_floor"
   ]
  },
  {
   "cell_type": "code",
   "execution_count": 21,
   "metadata": {},
   "outputs": [
    {
     "data": {
      "text/plain": [
       "array([3, 1, 0, 2], dtype=object)"
      ]
     },
     "execution_count": 21,
     "metadata": {},
     "output_type": "execute_result"
    }
   ],
   "source": [
    "i = 0\n",
    "for value in sort_by_damagegrade(train_data, 'type_of_other_floor'):\n",
    "    train_data.loc[train_data['type_of_other_floor'] == value, 'type_of_other_floor'] = i\n",
    "    test_data.loc[test_data['type_of_other_floor'] == value, 'type_of_other_floor'] = i\n",
    "    i += 1\n",
    "\n",
    "train_data['type_of_other_floor'].unique()"
   ]
  },
  {
   "attachments": {},
   "cell_type": "markdown",
   "metadata": {},
   "source": [
    "### type_of_reinforcement_concrete"
   ]
  },
  {
   "cell_type": "code",
   "execution_count": 22,
   "metadata": {},
   "outputs": [
    {
     "data": {
      "text/plain": [
       "array([3, 0, 2, 1], dtype=object)"
      ]
     },
     "execution_count": 22,
     "metadata": {},
     "output_type": "execute_result"
    }
   ],
   "source": [
    "i = 0\n",
    "for value in sort_by_damagegrade(train_data, 'type_of_reinforcement_concrete'):\n",
    "    train_data.loc[train_data['type_of_reinforcement_concrete'] == value, 'type_of_reinforcement_concrete'] = i\n",
    "    test_data.loc[test_data['type_of_reinforcement_concrete'] == value, 'type_of_reinforcement_concrete'] = i\n",
    "    i += 1\n",
    "\n",
    "train_data['type_of_reinforcement_concrete'].unique()"
   ]
  },
  {
   "attachments": {},
   "cell_type": "markdown",
   "metadata": {},
   "source": [
    "### wall_binding"
   ]
  },
  {
   "cell_type": "code",
   "execution_count": 23,
   "metadata": {},
   "outputs": [
    {
     "data": {
      "text/plain": [
       "array([1, 5, 0, 4, 3, 2], dtype=object)"
      ]
     },
     "execution_count": 23,
     "metadata": {},
     "output_type": "execute_result"
    }
   ],
   "source": [
    "i = 0\n",
    "for value in sort_by_damagegrade(train_data, 'wall_binding'):\n",
    "    train_data.loc[train_data['wall_binding'] == value, 'wall_binding'] = i\n",
    "    test_data.loc[test_data['wall_binding'] == value, 'wall_binding'] = i\n",
    "    i += 1\n",
    "\n",
    "train_data['wall_binding'].unique()"
   ]
  },
  {
   "attachments": {},
   "cell_type": "markdown",
   "metadata": {},
   "source": [
    "### wall_material"
   ]
  },
  {
   "cell_type": "code",
   "execution_count": 24,
   "metadata": {},
   "outputs": [
    {
     "data": {
      "text/plain": [
       "array([1, 3, 0, 2], dtype=object)"
      ]
     },
     "execution_count": 24,
     "metadata": {},
     "output_type": "execute_result"
    }
   ],
   "source": [
    "i = 0\n",
    "for value in sort_by_damagegrade(train_data, 'wall_material'):\n",
    "    train_data.loc[train_data['wall_material'] == value, 'wall_material'] = i\n",
    "    test_data.loc[test_data['wall_material'] == value, 'wall_material'] = i\n",
    "    i += 1\n",
    "\n",
    "train_data['wall_material'].unique()"
   ]
  },
  {
   "attachments": {},
   "cell_type": "markdown",
   "metadata": {},
   "source": [
    "## Add feature that calculate how distribution earthquake intensity"
   ]
  },
  {
   "cell_type": "code",
   "execution_count": 25,
   "metadata": {},
   "outputs": [],
   "source": [
    "# calculate distribution of earthquake based on flinth area and height\n",
    "\n",
    "gravity = 9.8\n",
    "\n",
    "ft_to_meter_cubic = 0.092903\n",
    "ft_to_meter = 0.3048\n",
    "\n",
    "train_data['pressure'] = gravity * (train_data['plinth_area(ft^2)'] * ft_to_meter_cubic) * (train_data['height_before_eq(ft)'] * ft_to_meter)\n",
    "test_data['pressure'] = gravity * (test_data['plinth_area(ft^2)'] * ft_to_meter_cubic) * (test_data['height_before_eq(ft)'] * ft_to_meter)"
   ]
  },
  {
   "cell_type": "code",
   "execution_count": 26,
   "metadata": {},
   "outputs": [
    {
     "name": "stdout",
     "output_type": "stream",
     "text": [
      "Train data shape: (335455, 30)\n",
      "Test data shape: (242082, 30)\n"
     ]
    }
   ],
   "source": [
    "print(f\"Train data shape: {train_data.shape}\")\n",
    "print(f\"Test data shape: {test_data.shape}\")"
   ]
  },
  {
   "attachments": {},
   "cell_type": "markdown",
   "metadata": {},
   "source": [
    "## Balancing the data"
   ]
  },
  {
   "cell_type": "code",
   "execution_count": 27,
   "metadata": {},
   "outputs": [],
   "source": [
    "print(f\"Train data shape: {train_data.shape}\")\n",
    "\n",
    "one_damage_grade = train_data[train_data['damage_grade'] == 1]\n",
    "two_damage_grade = train_data[train_data['damage_grade'] == 2].sample(n=len(one_damage_grade), random_state=42)\n",
    "three_damage_grade = train_data[train_data['damage_grade'] == 3].sample(n=len(one_damage_grade), random_state=42)\n",
    "four_damage_grade = train_data[train_data['damage_grade'] == 4].sample(n=len(one_damage_grade), random_state=42)\n",
    "five_damage_grade = train_data[train_data['damage_grade'] == 5].sample(n=len(one_damage_grade), random_state=42)\n",
    "\n",
    "balanced_train = pd.concat([one_damage_grade, two_damage_grade, three_damage_grade, four_damage_grade, five_damage_grade], ignore_index=True, sort=False)\n",
    "\n",
    "print(f\"Train data shape: {balanced_train.shape}\")"
   ]
  },
  {
   "cell_type": "markdown",
   "metadata": {},
   "source": [
    "## Export the cleaned data to csv file"
   ]
  },
  {
   "cell_type": "code",
   "execution_count": 28,
   "metadata": {},
   "outputs": [],
   "source": [
    "train_data.to_csv('train_data.csv', index=False)\n",
    "test_data.to_csv('test_data.csv', index=False)"
   ]
  }
 ],
 "metadata": {
  "kernelspec": {
   "display_name": "Python 3",
   "language": "python",
   "name": "python3"
  },
  "language_info": {
   "codemirror_mode": {
    "name": "ipython",
    "version": 3
   },
   "file_extension": ".py",
   "mimetype": "text/x-python",
   "name": "python",
   "nbconvert_exporter": "python",
   "pygments_lexer": "ipython3",
   "version": "3.11.2"
  },
  "orig_nbformat": 4
 },
 "nbformat": 4,
 "nbformat_minor": 2
}
