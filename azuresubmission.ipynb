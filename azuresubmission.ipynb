{
 "cells": [
  {
   "cell_type": "code",
   "execution_count": 1,
   "metadata": {},
   "outputs": [],
   "source": [
    "import pandas as pd"
   ]
  },
  {
   "cell_type": "code",
   "execution_count": 2,
   "metadata": {},
   "outputs": [],
   "source": [
    "pred = pd.read_csv('submission3.csv')\n",
    "submission = pd.read_csv('datasets/sample_submission.csv')"
   ]
  },
  {
   "cell_type": "code",
   "execution_count": 3,
   "metadata": {},
   "outputs": [
    {
     "data": {
      "text/plain": [
       "Index(['id', 'damage_grade'], dtype='object')"
      ]
     },
     "execution_count": 3,
     "metadata": {},
     "output_type": "execute_result"
    }
   ],
   "source": [
    "submission.columns"
   ]
  },
  {
   "cell_type": "code",
   "execution_count": 4,
   "metadata": {},
   "outputs": [
    {
     "data": {
      "text/plain": [
       "Index(['damage_grade_predicted', '1_predicted_proba', '2_predicted_proba',\n",
       "       '3_predicted_proba', '4_predicted_proba', '5_predicted_proba',\n",
       "       'floors_before_eq(total)_orig', 'old_building_orig',\n",
       "       'plinth_area(ft^2)_orig', 'height_before_eq(ft)_orig',\n",
       "       'land_surface_condition_orig', 'type_of_foundation_orig',\n",
       "       'type_of_roof_orig', 'type_of_ground_floor_orig',\n",
       "       'type_of_other_floor_orig', 'position_orig',\n",
       "       'building_plan_configuration_orig', 'technical_solution_proposed_orig',\n",
       "       'legal_ownership_status_orig', 'has_secondary_use_orig',\n",
       "       'type_of_reinforcement_concrete_orig', 'residential_type_orig',\n",
       "       'no_family_residing_orig', 'public_place_type_orig',\n",
       "       'industrial_use_type_orig', 'govermental_use_type_orig',\n",
       "       'flexible_superstructure_orig', 'wall_binding_orig',\n",
       "       'wall_material_orig', 'ismorethanplintharea_orig'],\n",
       "      dtype='object')"
      ]
     },
     "execution_count": 4,
     "metadata": {},
     "output_type": "execute_result"
    }
   ],
   "source": [
    "pred.columns"
   ]
  },
  {
   "cell_type": "code",
   "execution_count": 5,
   "metadata": {},
   "outputs": [],
   "source": [
    "submission['damage_grade'] = pred['damage_grade_predicted']\n",
    "submission.to_csv('submission4.csv', index=False)"
   ]
  },
  {
   "cell_type": "code",
   "execution_count": 7,
   "metadata": {},
   "outputs": [
    {
     "data": {
      "text/plain": [
       "Index(['id', 'damage_grade'], dtype='object')"
      ]
     },
     "execution_count": 7,
     "metadata": {},
     "output_type": "execute_result"
    }
   ],
   "source": [
    "submission.columns"
   ]
  },
  {
   "cell_type": "code",
   "execution_count": 8,
   "metadata": {},
   "outputs": [
    {
     "data": {
      "text/plain": [
       "array([5, 4, 2, 1, 3])"
      ]
     },
     "execution_count": 8,
     "metadata": {},
     "output_type": "execute_result"
    }
   ],
   "source": [
    "submission['damage_grade'].unique()"
   ]
  }
 ],
 "metadata": {
  "kernelspec": {
   "display_name": "Python 3",
   "language": "python",
   "name": "python3"
  },
  "language_info": {
   "codemirror_mode": {
    "name": "ipython",
    "version": 3
   },
   "file_extension": ".py",
   "mimetype": "text/x-python",
   "name": "python",
   "nbconvert_exporter": "python",
   "pygments_lexer": "ipython3",
   "version": "3.11.2"
  },
  "orig_nbformat": 4
 },
 "nbformat": 4,
 "nbformat_minor": 2
}
