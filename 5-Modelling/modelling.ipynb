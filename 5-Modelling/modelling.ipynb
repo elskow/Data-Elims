{
 "cells": [
  {
   "cell_type": "code",
   "execution_count": null,
   "metadata": {},
   "outputs": [],
   "source": [
    "import numpy as np # linear algebra\n",
    "import pandas as pd # data processing, CSV file I/O (e.g. pd.read_csv)\n",
    "pd.set_option('display.max_colwidth', None)\n",
    "pd.set_option('display.max_columns', None)\n",
    "pd.set_option('display.max_rows', None)\n",
    "# Specify dtype option on import or set low_memory=False.\n",
    "pd.options.mode.chained_assignment = None  # default='warn'\n",
    "\n",
    "import math\n",
    "import scipy\n",
    "\n",
    "# Datviz purposes\n",
    "import matplotlib.pyplot as plt\n",
    "plt.style.use('bmh')\n",
    "import seaborn as sns\n",
    "sns.set_style('darkgrid')\n",
    "import plotly.express as px\n",
    "import missingno as msno\n",
    "\n",
    "import tensorflow as tf\n",
    "from tensorflow import keras\n",
    "\n",
    "from sklearn.ensemble import RandomForestClassifier,GradientBoostingClassifier\n",
    "from sklearn.metrics import precision_recall_fscore_support as score\n",
    "from sklearn.model_selection import KFold, cross_val_score\n",
    "from sklearn.model_selection import GridSearchCV\n",
    "from sklearn.metrics import confusion_matrix\n",
    "from sklearn.metrics import precision_score, recall_score, f1_score, roc_auc_score, accuracy_score, classification_report\n",
    "\n",
    "from sklearn.model_selection import train_test_split"
   ]
  },
  {
   "cell_type": "code",
   "execution_count": null,
   "metadata": {},
   "outputs": [],
   "source": [
    "try :\n",
    "    train_data = pd.read_csv(\"/kaggle/input/penyisihan-joints-data-competition-2023/train.csv\", low_memory=False)\n",
    "    test_data = pd.read_csv(\"/kaggle/input/penyisihan-joints-data-competition-2023/test.csv\", low_memory=False) # For Kaggle\n",
    "\n",
    "except :\n",
    "    train_data = pd.read_csv(\"../4-FeatureEng/train_data.csv\", low_memory=False)\n",
    "    test_data = pd.read_csv(\"../4-FeatureEng/test_data.csv\", low_memory=False) # For local"
   ]
  },
  {
   "cell_type": "code",
   "execution_count": null,
   "metadata": {},
   "outputs": [],
   "source": [
    "# copying the original dataset into X\n",
    "X=train_data.copy()\n",
    "# droping building_id and dependent variable damage_grade\n",
    "# independant variables\n",
    "X=X.drop([\"damage_grade\"],axis=1)\n",
    "# dependent variable\n",
    "y=train_data[\"damage_grade\"]"
   ]
  },
  {
   "cell_type": "code",
   "execution_count": null,
   "metadata": {},
   "outputs": [],
   "source": [
    "rf = RandomForestClassifier()\n",
    "param = {'n_estimators': [10, 150, 300],\n",
    "        'max_depth': [30, 60, 90, None]}\n",
    "\n",
    "gs = GridSearchCV(rf, param, cv=5, n_jobs=-1)\n",
    "gs_fit = gs.fit(X, y)\n",
    "pd.DataFrame(gs_fit.cv_results_).sort_values('mean_test_score', ascending=False)[0:5]"
   ]
  },
  {
   "cell_type": "code",
   "execution_count": null,
   "metadata": {},
   "outputs": [],
   "source": [
    "x_train, x_test,y_train, y_test = train_test_split(X,y,test_size = 0.20,random_state = 42)"
   ]
  },
  {
   "cell_type": "code",
   "execution_count": null,
   "metadata": {},
   "outputs": [],
   "source": [
    "rf = RandomForestClassifier(n_estimators = 500,random_state = 1, max_depth=None,n_jobs=-1)\n",
    "rf.fit(x_train,y_train)\n",
    "rf_pred=rf.predict(x_test)\n",
    "cm=confusion_matrix(y_test,rf_pred)\n",
    "conf_matrix=pd.DataFrame(data=cm,columns=['Predicted:1','Predicted:2','Predicted:3'],\n",
    "                                         index=['Actual:1','Actual:2','Actual:3'])\n",
    "                                                                            \n",
    "plt.figure(figsize = (8,5))\n",
    "sns.heatmap(conf_matrix, annot=True,fmt='d',cmap=\"YlGnBu\")\n",
    "plt.title(\"confusion Matrix for  Random Forest\")\n",
    "plt.xticks(rotation=45)\n",
    "plt.yticks(rotation=360)\n",
    "plt.show()"
   ]
  },
  {
   "cell_type": "code",
   "execution_count": null,
   "metadata": {},
   "outputs": [],
   "source": [
    "print(\"-\"*100)\n",
    "print(\"Accuracy Score for Random Forest :\",accuracy_score(y_test,rf_pred))\n",
    "print(\"-\"*100)\n",
    "print(\"\\n\")\n",
    "print(\"classification report for Random Forest :\\n\\n\",classification_report(y_test, rf_pred))\n",
    "print(\"-\"*100)"
   ]
  },
  {
   "cell_type": "code",
   "execution_count": null,
   "metadata": {},
   "outputs": [],
   "source": [
    "# now predicting on test_data dataset\n",
    "test_data=test_data.drop(\"building_id\",axis=1)\n",
    "rf_pred_test_data=rf.predict(test_data)"
   ]
  },
  {
   "cell_type": "code",
   "execution_count": null,
   "metadata": {},
   "outputs": [],
   "source": [
    "submission=pd.read_csv(\"/kaggle/input/richters-predictor-modeling-earthquake-damage/submission_format.csv\")\n",
    "submission=submission.drop(\"damage_grade\",axis=1)\n",
    "rf_pred_test_data=pd.DataFrame(rf_pred_test_data)\n",
    "submission[\"damage_grade\"]=rf_pred_test_data\n",
    "submission.head()"
   ]
  }
 ],
 "metadata": {
  "language_info": {
   "name": "python"
  },
  "orig_nbformat": 4
 },
 "nbformat": 4,
 "nbformat_minor": 2
}
