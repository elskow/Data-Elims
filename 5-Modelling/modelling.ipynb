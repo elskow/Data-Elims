{
 "cells": [
  {
   "cell_type": "code",
   "execution_count": 1,
   "id": "1c0816b9",
   "metadata": {
    "execution": {
     "iopub.execute_input": "2023-04-12T11:46:25.593994Z",
     "iopub.status.busy": "2023-04-12T11:46:25.593044Z",
     "iopub.status.idle": "2023-04-12T11:46:36.106110Z",
     "shell.execute_reply": "2023-04-12T11:46:36.105010Z"
    },
    "papermill": {
     "duration": 10.523308,
     "end_time": "2023-04-12T11:46:36.109327",
     "exception": false,
     "start_time": "2023-04-12T11:46:25.586019",
     "status": "completed"
    },
    "tags": []
   },
   "outputs": [],
   "source": [
    "import numpy as np # linear algebra\n",
    "import pandas as pd # data processing, CSV file I/O (e.g. pd.read_csv)\n",
    "pd.set_option('display.max_colwidth', None)\n",
    "pd.set_option('display.max_columns', None)\n",
    "pd.set_option('display.max_rows', None)\n",
    "# Specify dtype option on import or set low_memory=False.\n",
    "pd.options.mode.chained_assignment = None  # default='warn'\n",
    "\n",
    "import math\n",
    "import scipy\n",
    "\n",
    "# Datviz purposes\n",
    "import matplotlib.pyplot as plt\n",
    "plt.style.use('bmh')\n",
    "import seaborn as sns\n",
    "sns.set_style('darkgrid')\n",
    "import plotly.express as px\n",
    "import missingno as msno\n",
    "\n",
    "import tensorflow as tf\n",
    "from tensorflow import keras\n",
    "\n",
    "from sklearn.ensemble import RandomForestClassifier,GradientBoostingClassifier\n",
    "from sklearn.metrics import precision_recall_fscore_support as score\n",
    "from sklearn.model_selection import KFold, cross_val_score\n",
    "from sklearn.model_selection import GridSearchCV\n",
    "from sklearn.metrics import confusion_matrix\n",
    "from sklearn.metrics import precision_score, recall_score, f1_score, roc_auc_score, accuracy_score, classification_report\n",
    "\n",
    "from sklearn.model_selection import train_test_split"
   ]
  },
  {
   "cell_type": "code",
   "execution_count": 2,
   "id": "80de959d",
   "metadata": {
    "execution": {
     "iopub.execute_input": "2023-04-12T11:46:36.120512Z",
     "iopub.status.busy": "2023-04-12T11:46:36.118746Z",
     "iopub.status.idle": "2023-04-12T11:46:40.322464Z",
     "shell.execute_reply": "2023-04-12T11:46:40.321485Z"
    },
    "papermill": {
     "duration": 4.211604,
     "end_time": "2023-04-12T11:46:40.325171",
     "exception": false,
     "start_time": "2023-04-12T11:46:36.113567",
     "status": "completed"
    },
    "tags": []
   },
   "outputs": [],
   "source": [
    "try :\n",
    "    train_data = pd.read_csv(\"/kaggle/input/joints-cleaned/train_data.csv\")\n",
    "    test_data = pd.read_csv(\"/kaggle/input/joints-cleaned/test_data.csv\")\n",
    "    submission_sample_data = pd.read_csv(\"/kaggle/input/joints-cleaned/sample_submission.csv\") # For Kaggle\n",
    "\n",
    "except :\n",
    "    train_data = pd.read_csv(\"../4-FeatureEng/train_data.csv\", low_memory=False)\n",
    "    test_data = pd.read_csv(\"../4-FeatureEng/test_data.csv\", low_memory=False) # For local"
   ]
  },
  {
   "cell_type": "code",
   "execution_count": 3,
   "id": "480d5eee",
   "metadata": {
    "execution": {
     "iopub.execute_input": "2023-04-12T11:46:40.334795Z",
     "iopub.status.busy": "2023-04-12T11:46:40.334073Z",
     "iopub.status.idle": "2023-04-12T11:46:40.341260Z",
     "shell.execute_reply": "2023-04-12T11:46:40.340397Z"
    },
    "papermill": {
     "duration": 0.014425,
     "end_time": "2023-04-12T11:46:40.343351",
     "exception": false,
     "start_time": "2023-04-12T11:46:40.328926",
     "status": "completed"
    },
    "tags": []
   },
   "outputs": [
    {
     "data": {
      "text/plain": [
       "(242082, 2)"
      ]
     },
     "execution_count": 3,
     "metadata": {},
     "output_type": "execute_result"
    }
   ],
   "source": [
    "submission_sample_data.shape"
   ]
  },
  {
   "cell_type": "markdown",
   "id": "f494c645",
   "metadata": {},
   "source": [
    "## One-hot encoding"
   ]
  },
  {
   "cell_type": "code",
   "execution_count": null,
   "id": "4c4e1fca",
   "metadata": {},
   "outputs": [],
   "source": [
    "# Change into one-hot encoding\n",
    "\n",
    "# land_surface_condition\tobject\t3\n",
    "# type_of_foundation\tobject\t5\n",
    "# type_of_roof\tobject\t3\n",
    "# type_of_ground_floor\tobject\t5\n",
    "# type_of_other_floor\tobject\t4\n",
    "# position\tint64\t4\n",
    "# building_plan_configuration\tobject\t10\n",
    "# type_of_reinforcement_concrete\tint64\t4\n",
    "# residential_type\tobject\t6\n",
    "# public_place_type\tobject\t6\n",
    "# industrial_use_type\tobject\t9\n",
    "# govermental_use_type\tobject\t3\n",
    "# wall_binding\tint64\t6\n",
    "# wall_material\tint64\t4\n",
    "\n",
    "one_hot = ['land_surface_condition', 'type_of_foundation', \n",
    "           'type_of_roof', 'type_of_ground_floor', 'type_of_other_floor', \n",
    "           'building_plan_configuration', 'residential_type', 'public_place_type', \n",
    "           'industrial_use_type', 'govermental_use_type', 'wall_binding', 'wall_material']\n",
    "\n",
    "train_data = pd.get_dummies(train_data, columns=one_hot)\n",
    "test_data = pd.get_dummies(test_data, columns=one_hot)"
   ]
  },
  {
   "cell_type": "code",
   "execution_count": 4,
   "id": "e4213b1c",
   "metadata": {
    "execution": {
     "iopub.execute_input": "2023-04-12T11:46:40.352492Z",
     "iopub.status.busy": "2023-04-12T11:46:40.352107Z",
     "iopub.status.idle": "2023-04-12T11:46:40.515905Z",
     "shell.execute_reply": "2023-04-12T11:46:40.514357Z"
    },
    "papermill": {
     "duration": 0.172005,
     "end_time": "2023-04-12T11:46:40.519112",
     "exception": false,
     "start_time": "2023-04-12T11:46:40.347107",
     "status": "completed"
    },
    "tags": []
   },
   "outputs": [],
   "source": [
    "# copying the original dataset into X\n",
    "X=train_data.copy()\n",
    "# droping building_id and dependent variable damage_grade\n",
    "# independant variables\n",
    "X=X.drop([\"damage_grade\"],axis=1)\n",
    "# dependent variable\n",
    "y=train_data[\"damage_grade\"]"
   ]
  },
  {
   "cell_type": "code",
   "execution_count": 5,
   "id": "7f62c15e",
   "metadata": {
    "execution": {
     "iopub.execute_input": "2023-04-12T11:46:40.528362Z",
     "iopub.status.busy": "2023-04-12T11:46:40.527950Z",
     "iopub.status.idle": "2023-04-12T11:46:40.533944Z",
     "shell.execute_reply": "2023-04-12T11:46:40.533053Z"
    },
    "papermill": {
     "duration": 0.013282,
     "end_time": "2023-04-12T11:46:40.536216",
     "exception": false,
     "start_time": "2023-04-12T11:46:40.522934",
     "status": "completed"
    },
    "tags": []
   },
   "outputs": [],
   "source": [
    "# rf = RandomForestClassifier()\n",
    "# param = {'n_estimators': [10, 150, 300],\n",
    "#         'max_depth': [30, 60, 90, None]}\n",
    "\n",
    "# gs = GridSearchCV(rf, param, cv=5, n_jobs=-1)\n",
    "# gs_fit = gs.fit(X, y)\n",
    "# pd.DataFrame(gs_fit.cv_results_).sort_values('mean_test_score', ascending=False)[0:5]"
   ]
  },
  {
   "cell_type": "code",
   "execution_count": 6,
   "id": "a19e4e6a",
   "metadata": {
    "execution": {
     "iopub.execute_input": "2023-04-12T11:46:40.546087Z",
     "iopub.status.busy": "2023-04-12T11:46:40.545420Z",
     "iopub.status.idle": "2023-04-12T11:46:40.792510Z",
     "shell.execute_reply": "2023-04-12T11:46:40.791178Z"
    },
    "papermill": {
     "duration": 0.255072,
     "end_time": "2023-04-12T11:46:40.795266",
     "exception": false,
     "start_time": "2023-04-12T11:46:40.540194",
     "status": "completed"
    },
    "tags": []
   },
   "outputs": [],
   "source": [
    "x_train, x_test,y_train, y_test = train_test_split(X,y,test_size = 0.30,random_state = 42)"
   ]
  },
  {
   "cell_type": "code",
   "execution_count": 7,
   "id": "7bdc4426",
   "metadata": {
    "execution": {
     "iopub.execute_input": "2023-04-12T11:46:40.804834Z",
     "iopub.status.busy": "2023-04-12T11:46:40.804465Z",
     "iopub.status.idle": "2023-04-12T11:49:18.871206Z",
     "shell.execute_reply": "2023-04-12T11:49:18.869961Z"
    },
    "papermill": {
     "duration": 158.082107,
     "end_time": "2023-04-12T11:49:18.881717",
     "exception": false,
     "start_time": "2023-04-12T11:46:40.799610",
     "status": "completed"
    },
    "tags": []
   },
   "outputs": [
    {
     "data": {
      "image/png": "[encoded data removed]",
      "text/plain": [
       "<Figure size 800x500 with 2 Axes>"
      ]
     },
     "metadata": {},
     "output_type": "display_data"
    }
   ],
   "source": [
    "rf = RandomForestClassifier(n_estimators = 500,random_state = 1, max_depth=None,n_jobs=-1)\n",
    "rf.fit(x_train,y_train)\n",
    "rf_pred=rf.predict(x_test)\n",
    "cm=confusion_matrix(y_test,rf_pred)\n",
    "conf_matrix=pd.DataFrame(data=cm,columns=['Predicted:1','Predicted:2',\n",
    "                                          'Predicted:3','Predicted:4','Predicted:5',],\n",
    "                                         index=['Actual:1','Actual:2',\n",
    "                                                'Actual:3','Actual:4','Actual:5'])\n",
    "                                                                            \n",
    "plt.figure(figsize = (8,5))\n",
    "sns.heatmap(conf_matrix, annot=True,fmt='d',cmap=\"YlGnBu\")\n",
    "plt.title(\"confusion Matrix for  Random Forest\")\n",
    "plt.xticks(rotation=45)\n",
    "plt.yticks(rotation=360)\n",
    "plt.show()"
   ]
  },
  {
   "cell_type": "code",
   "execution_count": 8,
   "id": "3bd4e1a4",
   "metadata": {
    "execution": {
     "iopub.execute_input": "2023-04-12T11:49:18.894007Z",
     "iopub.status.busy": "2023-04-12T11:49:18.893580Z",
     "iopub.status.idle": "2023-04-12T11:49:19.095390Z",
     "shell.execute_reply": "2023-04-12T11:49:19.093804Z"
    },
    "papermill": {
     "duration": 0.210382,
     "end_time": "2023-04-12T11:49:19.097929",
     "exception": false,
     "start_time": "2023-04-12T11:49:18.887547",
     "status": "completed"
    },
    "tags": []
   },
   "outputs": [
    {
     "name": "stdout",
     "output_type": "stream",
     "text": [
      "----------------------------------------------------------------------------------------------------\n",
      "Accuracy Score for Random Forest : 0.4102625250899263\n",
      "----------------------------------------------------------------------------------------------------\n",
      "\n",
      "\n",
      "classification report for Random Forest :\n",
      "\n",
      "               precision    recall  f1-score   support\n",
      "\n",
      "           1       0.52      0.56      0.54     11103\n",
      "           2       0.32      0.25      0.28     12127\n",
      "           3       0.32      0.27      0.29     18589\n",
      "           4       0.31      0.29      0.30     24291\n",
      "           5       0.48      0.58      0.53     34528\n",
      "\n",
      "    accuracy                           0.41    100638\n",
      "   macro avg       0.39      0.39      0.39    100638\n",
      "weighted avg       0.40      0.41      0.40    100638\n",
      "\n",
      "----------------------------------------------------------------------------------------------------\n"
     ]
    }
   ],
   "source": [
    "print(\"-\"*100)\n",
    "print(\"Accuracy Score for Random Forest :\",accuracy_score(y_test,rf_pred))\n",
    "print(\"-\"*100)\n",
    "print(\"\\n\")\n",
    "print(\"classification report for Random Forest :\\n\\n\",classification_report(y_test, rf_pred))\n",
    "print(\"-\"*100)"
   ]
  },
  {
   "cell_type": "code",
   "execution_count": null,
   "id": "f03ba05d",
   "metadata": {},
   "outputs": [],
   "source": [
    "# "
   ]
  },
  {
   "cell_type": "code",
   "execution_count": 9,
   "id": "0796c8fa",
   "metadata": {
    "execution": {
     "iopub.execute_input": "2023-04-12T11:49:19.110262Z",
     "iopub.status.busy": "2023-04-12T11:49:19.108948Z",
     "iopub.status.idle": "2023-04-12T11:49:37.580257Z",
     "shell.execute_reply": "2023-04-12T11:49:37.578814Z"
    },
    "papermill": {
     "duration": 18.480444,
     "end_time": "2023-04-12T11:49:37.583132",
     "exception": false,
     "start_time": "2023-04-12T11:49:19.102688",
     "status": "completed"
    },
    "tags": []
   },
   "outputs": [],
   "source": [
    "# now predicting on test_data dataset\n",
    "test_data=test_data.drop(\"id\",axis=1)\n",
    "rf_pred_test_data=rf.predict(test_data)"
   ]
  },
  {
   "cell_type": "code",
   "execution_count": 10,
   "id": "71fe9f53",
   "metadata": {
    "execution": {
     "iopub.execute_input": "2023-04-12T11:49:37.595157Z",
     "iopub.status.busy": "2023-04-12T11:49:37.594362Z",
     "iopub.status.idle": "2023-04-12T11:49:37.619790Z",
     "shell.execute_reply": "2023-04-12T11:49:37.618355Z"
    },
    "papermill": {
     "duration": 0.034522,
     "end_time": "2023-04-12T11:49:37.622668",
     "exception": false,
     "start_time": "2023-04-12T11:49:37.588146",
     "status": "completed"
    },
    "tags": []
   },
   "outputs": [
    {
     "data": {
      "text/html": [
       "<div>\n",
       "<style scoped>\n",
       "    .dataframe tbody tr th:only-of-type {\n",
       "        vertical-align: middle;\n",
       "    }\n",
       "\n",
       "    .dataframe tbody tr th {\n",
       "        vertical-align: top;\n",
       "    }\n",
       "\n",
       "    .dataframe thead th {\n",
       "        text-align: right;\n",
       "    }\n",
       "</style>\n",
       "<table border=\"1\" class=\"dataframe\">\n",
       "  <thead>\n",
       "    <tr style=\"text-align: right;\">\n",
       "      <th></th>\n",
       "      <th>id</th>\n",
       "      <th>damage_grade</th>\n",
       "    </tr>\n",
       "  </thead>\n",
       "  <tbody>\n",
       "    <tr>\n",
       "      <th>0</th>\n",
       "      <td>0</td>\n",
       "      <td>5</td>\n",
       "    </tr>\n",
       "    <tr>\n",
       "      <th>1</th>\n",
       "      <td>1</td>\n",
       "      <td>5</td>\n",
       "    </tr>\n",
       "    <tr>\n",
       "      <th>2</th>\n",
       "      <td>2</td>\n",
       "      <td>5</td>\n",
       "    </tr>\n",
       "    <tr>\n",
       "      <th>3</th>\n",
       "      <td>3</td>\n",
       "      <td>4</td>\n",
       "    </tr>\n",
       "    <tr>\n",
       "      <th>4</th>\n",
       "      <td>4</td>\n",
       "      <td>2</td>\n",
       "    </tr>\n",
       "  </tbody>\n",
       "</table>\n",
       "</div>"
      ],
      "text/plain": [
       "   id  damage_grade\n",
       "0   0             5\n",
       "1   1             5\n",
       "2   2             5\n",
       "3   3             4\n",
       "4   4             2"
      ]
     },
     "execution_count": 10,
     "metadata": {},
     "output_type": "execute_result"
    }
   ],
   "source": [
    "submission_sample_data=submission_sample_data.drop(\"damage_grade\",axis=1)\n",
    "rf_pred_test_data=pd.DataFrame(rf_pred_test_data)\n",
    "submission_sample_data[\"damage_grade\"]=rf_pred_test_data\n",
    "submission_sample_data.head()"
   ]
  },
  {
   "cell_type": "code",
   "execution_count": 11,
   "id": "421d66ed",
   "metadata": {
    "execution": {
     "iopub.execute_input": "2023-04-12T11:49:37.635722Z",
     "iopub.status.busy": "2023-04-12T11:49:37.634520Z",
     "iopub.status.idle": "2023-04-12T11:49:37.643008Z",
     "shell.execute_reply": "2023-04-12T11:49:37.641718Z"
    },
    "papermill": {
     "duration": 0.01745,
     "end_time": "2023-04-12T11:49:37.645541",
     "exception": false,
     "start_time": "2023-04-12T11:49:37.628091",
     "status": "completed"
    },
    "tags": []
   },
   "outputs": [
    {
     "data": {
      "text/plain": [
       "(242082, 2)"
      ]
     },
     "execution_count": 11,
     "metadata": {},
     "output_type": "execute_result"
    }
   ],
   "source": [
    "submission_sample_data.shape"
   ]
  },
  {
   "cell_type": "code",
   "execution_count": 12,
   "id": "fce84dbf",
   "metadata": {
    "execution": {
     "iopub.execute_input": "2023-04-12T11:49:37.658009Z",
     "iopub.status.busy": "2023-04-12T11:49:37.657512Z",
     "iopub.status.idle": "2023-04-12T11:49:37.912207Z",
     "shell.execute_reply": "2023-04-12T11:49:37.911215Z"
    },
    "papermill": {
     "duration": 0.263924,
     "end_time": "2023-04-12T11:49:37.914798",
     "exception": false,
     "start_time": "2023-04-12T11:49:37.650874",
     "status": "completed"
    },
    "tags": []
   },
   "outputs": [],
   "source": [
    "submission_sample_data.to_csv('submission.csv', index=False)"
   ]
  }
 ],
 "metadata": {
  "kernelspec": {
   "display_name": "Python 3",
   "language": "python",
   "name": "python3"
  },
  "language_info": {
   "codemirror_mode": {
    "name": "ipython",
    "version": 3
   },
   "file_extension": ".py",
   "mimetype": "text/x-python",
   "name": "python",
   "nbconvert_exporter": "python",
   "pygments_lexer": "ipython3",
   "version": "3.7.12"
  },
  "papermill": {
   "default_parameters": {},
   "duration": 207.140741,
   "end_time": "2023-04-12T11:49:42.078488",
   "environment_variables": {},
   "exception": null,
   "input_path": "__notebook__.ipynb",
   "output_path": "__notebook__.ipynb",
   "parameters": {},
   "start_time": "2023-04-12T11:46:14.937747",
   "version": "2.4.0"
  }
 },
 "nbformat": 4,
 "nbformat_minor": 5
}
